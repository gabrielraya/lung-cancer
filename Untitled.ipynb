{
 "cells": [
  {
   "cell_type": "code",
   "execution_count": 13,
   "metadata": {},
   "outputs": [],
   "source": [
    "import numpy as np\n",
    "import pandas as pd\n",
    "import os\n",
    "\n",
    "data_dir1 =  r'Z:\\projects\\pathology-lung-cancer-weak-growth-pattern-prediction\\results\\tcga\\featurized\\tcga_luad\\augmented'\n",
    "data_dir0 =  r'Z:\\projects\\pathology-lung-cancer-weak-growth-pattern-prediction\\results\\tcga\\featurized\\tcga_lusc\\augmented'\n",
    "csv_path =  os.path.join(r'E:\\pathology-weakly-supervised-lung-cancer-growth-pattern-prediction\\data','slide_list_tcga.csv')"
   ]
  },
  {
   "cell_type": "code",
   "execution_count": 14,
   "metadata": {},
   "outputs": [
    {
     "name": "stderr",
     "output_type": "stream",
     "text": [
      "100%|██████████| 12744/12744 [00:00<00:00, 39580.60it/s]\n",
      "100%|██████████| 12144/12144 [00:00<00:00, 20087.55it/s]\n"
     ]
    }
   ],
   "source": [
    "image_files1 = sorted([(os.path.basename(file)).split('.')[0] for file in tqdm(os.listdir(data_dir1)) if file.endswith('.png')])\n",
    "image_files0 = sorted([(os.path.basename(file)).split('.')[0] for file in tqdm(os.listdir(data_dir0)) if file.endswith('.png')])"
   ]
  },
  {
   "cell_type": "code",
   "execution_count": 10,
   "metadata": {},
   "outputs": [],
   "source": [
    "from tqdm import tqdm"
   ]
  },
  {
   "cell_type": "code",
   "execution_count": null,
   "metadata": {},
   "outputs": [],
   "source": [
    "image_files1 = sorted([(os.path.basename(file)).split('.')[0] for file in os.listdir(data_dir1) if file.endswith('.png')])\n",
    "    "
   ]
  },
  {
   "cell_type": "code",
   "execution_count": null,
   "metadata": {},
   "outputs": [],
   "source": [
    "\n",
    "\n",
    "\n",
    "def create_csv(data_dir1, data_dir0, csv_path):\n",
    "    \"\"\"\n",
    "    Creates csv file with slide names and corresponding labels from two given\n",
    "    folders with wsi already featurized.\n",
    "\n",
    "    Parameters\n",
    "    ----------\n",
    "    data_dir1 : TCGA LUAD featurized directory\n",
    "    data_dir0 : TCGA LUSC featurized directory\n",
    "    csv_path  : csv is exported to this path\n",
    "\n",
    "    Returns csv file to csv_path\n",
    "        labels 1 correspond to LUAD\n",
    "        labesl 0 correspond to LUSC\n",
    "    \"\"\"\n",
    "\n",
    "    image_files1 = sorted([(os.path.basename(file)).split('.')[0] for file in os.listdir(data_dir1) if file.endswith('.png')])\n",
    "    image_files0 = sorted([(os.path.basename(file)).split('.')[0] for file in os.listdir(data_dir0) if file.endswith('.png')])\n",
    "    labels1 = np.ones(len(image_files1), dtype=np.int8)\n",
    "    labels0 = np.zeros(len(image_files0), dtype=np.int8)\n",
    "\n",
    "    df1 = pd.DataFrame(list(zip(image_files1, labels1)), columns=['slide_id', 'label'])\n",
    "    df0 = pd.DataFrame(list(zip(image_files0, labels0)), columns=['slide_id', 'label'])\n",
    "\n",
    "    # conacatenate dataframes\n",
    "    data = pd.concat([df1, df0], ignore_index=True, )\n",
    "    data.to_csv(csv_path, index=None, header=True)\n",
    "    print('Csv file sucessfully exported!')\n",
    "\n",
    "\n",
    "if __name__ == '__main__':\n",
    "\n",
    "    dir_luad =  r'Z:\\projects\\pathology-lung-cancer-weak-growth-pattern-prediction\\results\\tcga\\featurized\\tcga_luad\\augmented'\n",
    "    dir_luad =  r'Z:\\projects\\pathology-lung-cancer-weak-growth-pattern-prediction\\results\\tcga\\featurized\\tcga_lusc\\augmented'\n",
    "    csv_path =  os.path.join(r'E:\\pathology-weakly-supervised-lung-cancer-growth-pattern-prediction\\data','slide_list_tcga.csv')\n",
    "\n",
    "    print('Converting file')\n",
    "    create_csv(dir_luad, dir_luad, csv_path)\n"
   ]
  }
 ],
 "metadata": {
  "kernelspec": {
   "display_name": "tensorflow",
   "language": "python",
   "name": "tensorflow"
  },
  "language_info": {
   "codemirror_mode": {
    "name": "ipython",
    "version": 3
   },
   "file_extension": ".py",
   "mimetype": "text/x-python",
   "name": "python",
   "nbconvert_exporter": "python",
   "pygments_lexer": "ipython3",
   "version": "3.6.7"
  }
 },
 "nbformat": 4,
 "nbformat_minor": 2
}
