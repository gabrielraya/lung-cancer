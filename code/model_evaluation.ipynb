{
 "cells": [
  {
   "cell_type": "code",
   "execution_count": 58,
   "metadata": {},
   "outputs": [
    {
     "name": "stderr",
     "output_type": "stream",
     "text": [
      "100%|██████████| 12744/12744 [00:00<00:00, 54002.33it/s]\n",
      "100%|██████████| 12144/12144 [00:00<00:00, 46352.90it/s]\n"
     ]
    },
    {
     "name": "stdout",
     "output_type": "stream",
     "text": [
      "Csv file sucessfully exported!\n"
     ]
    }
   ],
   "source": [
    "import os\n",
    "from preprocessing import create_csv\n",
    "\n",
    "# project and data directories\n",
    "root_dir = r'Z:\\projects\\pathology-weakly-supervised-lung-cancer-growth-pattern-prediction'\n",
    "\n",
    "\n",
    "# compressed image directories\n",
    "featurized_luad_dir_aug = join(root_dir, 'results', 'tcga_luad', 'featurized', 'augmented_4task')\n",
    "featurized_lusc_dir_aug = join(root_dir, 'results', 'tcga_lusc', 'featurized', 'augmented_4task')\n",
    "csv_train = os.path.join(root_dir, 'data', 'train_slide_list_tcga_4task.csv')\n",
    "\n",
    "create_csv(featurized_luad_dir_aug, featurized_lusc_dir_aug, csv_train, 'npy')\n",
    "\n",
    "\n",
    "# if bigan:\n",
    "#     featurized_luad_dir_aug = join(root_dir, 'results', 'tcga_luad', 'featurized', 'augmented')\n",
    "#     featurized_lusc_dir_aug = join(root_dir, 'results', 'tcga_lusc', 'featurized', 'augmented')"
   ]
  },
  {
   "cell_type": "code",
   "execution_count": 60,
   "metadata": {},
   "outputs": [
    {
     "data": {
      "text/html": [
       "<div>\n",
       "<style scoped>\n",
       "    .dataframe tbody tr th:only-of-type {\n",
       "        vertical-align: middle;\n",
       "    }\n",
       "\n",
       "    .dataframe tbody tr th {\n",
       "        vertical-align: top;\n",
       "    }\n",
       "\n",
       "    .dataframe thead th {\n",
       "        text-align: right;\n",
       "    }\n",
       "</style>\n",
       "<table border=\"1\" class=\"dataframe\">\n",
       "  <thead>\n",
       "    <tr style=\"text-align: right;\">\n",
       "      <th></th>\n",
       "      <th>slide_id</th>\n",
       "      <th>label</th>\n",
       "    </tr>\n",
       "  </thead>\n",
       "  <tbody>\n",
       "    <tr>\n",
       "      <th>0</th>\n",
       "      <td>TCGA-05-4244-01Z-00-DX1_0_horizontal_features</td>\n",
       "      <td>1</td>\n",
       "    </tr>\n",
       "    <tr>\n",
       "      <th>1</th>\n",
       "      <td>TCGA-05-4244-01Z-00-DX1_0_horizontal_features_...</td>\n",
       "      <td>1</td>\n",
       "    </tr>\n",
       "    <tr>\n",
       "      <th>2</th>\n",
       "      <td>TCGA-05-4244-01Z-00-DX1_0_none_features</td>\n",
       "      <td>1</td>\n",
       "    </tr>\n",
       "    <tr>\n",
       "      <th>3</th>\n",
       "      <td>TCGA-05-4244-01Z-00-DX1_0_none_features_distan...</td>\n",
       "      <td>1</td>\n",
       "    </tr>\n",
       "    <tr>\n",
       "      <th>4</th>\n",
       "      <td>TCGA-05-4244-01Z-00-DX1_0_vertical_features</td>\n",
       "      <td>1</td>\n",
       "    </tr>\n",
       "    <tr>\n",
       "      <th>5</th>\n",
       "      <td>TCGA-05-4244-01Z-00-DX1_0_vertical_features_di...</td>\n",
       "      <td>1</td>\n",
       "    </tr>\n",
       "    <tr>\n",
       "      <th>6</th>\n",
       "      <td>TCGA-05-4244-01Z-00-DX1_180_none_features</td>\n",
       "      <td>1</td>\n",
       "    </tr>\n",
       "    <tr>\n",
       "      <th>7</th>\n",
       "      <td>TCGA-05-4244-01Z-00-DX1_180_none_features_dist...</td>\n",
       "      <td>1</td>\n",
       "    </tr>\n",
       "    <tr>\n",
       "      <th>8</th>\n",
       "      <td>TCGA-05-4244-01Z-00-DX1_270_none_features</td>\n",
       "      <td>1</td>\n",
       "    </tr>\n",
       "    <tr>\n",
       "      <th>9</th>\n",
       "      <td>TCGA-05-4244-01Z-00-DX1_270_none_features_dist...</td>\n",
       "      <td>1</td>\n",
       "    </tr>\n",
       "    <tr>\n",
       "      <th>10</th>\n",
       "      <td>TCGA-05-4244-01Z-00-DX1_270_vertical_features</td>\n",
       "      <td>1</td>\n",
       "    </tr>\n",
       "    <tr>\n",
       "      <th>11</th>\n",
       "      <td>TCGA-05-4244-01Z-00-DX1_270_vertical_features_...</td>\n",
       "      <td>1</td>\n",
       "    </tr>\n",
       "    <tr>\n",
       "      <th>12</th>\n",
       "      <td>TCGA-05-4244-01Z-00-DX1_90_none_features</td>\n",
       "      <td>1</td>\n",
       "    </tr>\n",
       "    <tr>\n",
       "      <th>13</th>\n",
       "      <td>TCGA-05-4244-01Z-00-DX1_90_none_features_dista...</td>\n",
       "      <td>1</td>\n",
       "    </tr>\n",
       "    <tr>\n",
       "      <th>14</th>\n",
       "      <td>TCGA-05-4244-01Z-00-DX1_90_vertical_features</td>\n",
       "      <td>1</td>\n",
       "    </tr>\n",
       "    <tr>\n",
       "      <th>15</th>\n",
       "      <td>TCGA-05-4244-01Z-00-DX1_90_vertical_features_d...</td>\n",
       "      <td>1</td>\n",
       "    </tr>\n",
       "    <tr>\n",
       "      <th>16</th>\n",
       "      <td>TCGA-05-4245-01Z-00-DX1_0_horizontal_features</td>\n",
       "      <td>1</td>\n",
       "    </tr>\n",
       "    <tr>\n",
       "      <th>17</th>\n",
       "      <td>TCGA-05-4245-01Z-00-DX1_0_horizontal_features_...</td>\n",
       "      <td>1</td>\n",
       "    </tr>\n",
       "    <tr>\n",
       "      <th>18</th>\n",
       "      <td>TCGA-05-4245-01Z-00-DX1_0_none_features</td>\n",
       "      <td>1</td>\n",
       "    </tr>\n",
       "    <tr>\n",
       "      <th>19</th>\n",
       "      <td>TCGA-05-4245-01Z-00-DX1_0_none_features_distan...</td>\n",
       "      <td>1</td>\n",
       "    </tr>\n",
       "  </tbody>\n",
       "</table>\n",
       "</div>"
      ],
      "text/plain": [
       "                                             slide_id  label\n",
       "0       TCGA-05-4244-01Z-00-DX1_0_horizontal_features      1\n",
       "1   TCGA-05-4244-01Z-00-DX1_0_horizontal_features_...      1\n",
       "2             TCGA-05-4244-01Z-00-DX1_0_none_features      1\n",
       "3   TCGA-05-4244-01Z-00-DX1_0_none_features_distan...      1\n",
       "4         TCGA-05-4244-01Z-00-DX1_0_vertical_features      1\n",
       "5   TCGA-05-4244-01Z-00-DX1_0_vertical_features_di...      1\n",
       "6           TCGA-05-4244-01Z-00-DX1_180_none_features      1\n",
       "7   TCGA-05-4244-01Z-00-DX1_180_none_features_dist...      1\n",
       "8           TCGA-05-4244-01Z-00-DX1_270_none_features      1\n",
       "9   TCGA-05-4244-01Z-00-DX1_270_none_features_dist...      1\n",
       "10      TCGA-05-4244-01Z-00-DX1_270_vertical_features      1\n",
       "11  TCGA-05-4244-01Z-00-DX1_270_vertical_features_...      1\n",
       "12           TCGA-05-4244-01Z-00-DX1_90_none_features      1\n",
       "13  TCGA-05-4244-01Z-00-DX1_90_none_features_dista...      1\n",
       "14       TCGA-05-4244-01Z-00-DX1_90_vertical_features      1\n",
       "15  TCGA-05-4244-01Z-00-DX1_90_vertical_features_d...      1\n",
       "16      TCGA-05-4245-01Z-00-DX1_0_horizontal_features      1\n",
       "17  TCGA-05-4245-01Z-00-DX1_0_horizontal_features_...      1\n",
       "18            TCGA-05-4245-01Z-00-DX1_0_none_features      1\n",
       "19  TCGA-05-4245-01Z-00-DX1_0_none_features_distan...      1"
      ]
     },
     "execution_count": 60,
     "metadata": {},
     "output_type": "execute_result"
    }
   ],
   "source": [
    "import pandas as pd \n",
    "\n",
    "df = pd.read_csv(csv_train)\n",
    "df.head(20)"
   ]
  },
  {
   "cell_type": "code",
   "execution_count": null,
   "metadata": {},
   "outputs": [],
   "source": [
    "df['slide_id'].replace(regex=True,inplace=False,to_replace=r'\\D',value=r'')"
   ]
  },
  {
   "cell_type": "code",
   "execution_count": null,
   "metadata": {},
   "outputs": [],
   "source": [
    "# Get csv files to run model with augmentations\n",
    "import os\n",
    "\n",
    "# project and data directories\n",
    "root_dir = r'Z:\\projects\\pathology-weakly-supervised-lung-cancer-growth-pattern-prediction'\n",
    "\n",
    "\n",
    "# compressed image directories\n",
    "featurized_luad_dir_aug = join(root_dir, 'results', 'tcga_luad', 'featurized', 'augmented_4task')\n",
    "featurized_lusc_dir_aug = join(root_dir, 'results', 'tcga_lusc', 'featurized', 'augmented_4task')\n",
    "\n",
    "# if bigan:\n",
    "#     featurized_luad_dir_aug = join(root_dir, 'results', 'tcga_luad', 'featurized', 'augmented')\n",
    "#     featurized_lusc_dir_aug = join(root_dir, 'results', 'tcga_lusc', 'featurized', 'augmented')\n",
    "\n",
    "# Set paths\n",
    "csv_train = os.path.join(root_dir, 'data', 'train_slide_list_tcga_4task.csv')\n",
    "csv_val = os.path.join(root_dir, 'data', 'validation_slide_list_tcga_4task.csv')\n",
    "csv_test = os.path.join(root_dir, 'data', 'test_slide_list_tcga_4task.csv')\n",
    "\n",
    "# csv paths\n",
    "csv_path_wsi = os.path.join(root_dir, 'data', 'slide_original_list_tcga.csv')\n",
    "csv_path_compressed_wsi = os.path.join(root_dir, 'data', 'slide_compressed_list_tcga.csv')\n",
    "\n",
    "os.system('mkdir /home/user/data')\n",
    "cache_dir = '/home/user/data'  # used to store local copies of files during I/O operations (useful in cluster\n",
    "\n",
    "# Train CNN\n",
    "\n",
    "# selected_fold = 0\n",
    "\n",
    "featurized_dir = {'data_dir_luad': featurized_luad_dir_aug, 'data_dir_lusc': featurized_lusc_dir_aug}\n",
    "csv_path = {'csv_train': csv_train, 'csv_val': csv_val, 'csv_test': csv_test}\n",
    "\n",
    "# TO DO: Test/split should be done once, during preprocessing not here.\n",
    "# # Create csv files\n",
    "# print('Creating compressed wsi csv file ...')\n",
    "# create_csv(dir_luad_wsi, dir_lusc_wsi, csv_path_compressed_wsi, 'tif')\n",
    "#\n",
    "# print('Creating split train/validation/test csv files with augmentations ...')\n",
    "# generate_csv_files(csv_path_compressed_wsi, csv_train, csv_val, csv_test, test_size=0.2, validation_size=0.3)\n",
    "    \n",
    "    "
   ]
  },
  {
   "cell_type": "code",
   "execution_count": 1,
   "metadata": {},
   "outputs": [
    {
     "name": "stderr",
     "output_type": "stream",
     "text": [
      "Using TensorFlow backend.\n"
     ]
    },
    {
     "name": "stdout",
     "output_type": "stream",
     "text": [
      "Gabriel Raya\n"
     ]
    }
   ],
   "source": [
    "import pandas as pd\n",
    "import keras\n",
    "from os.path import join\n",
    "import getpass\n",
    "username = getpass.getuser()\n",
    "print(username)"
   ]
  },
  {
   "cell_type": "code",
   "execution_count": 2,
   "metadata": {},
   "outputs": [],
   "source": [
    "def plot_confusion_matrix(cm, target_names, title='Confusion matrix', cmap=None, normalize=True):\n",
    "\n",
    "\n",
    "    accuracy = np.trace(cm) / float(np.sum(cm))\n",
    "    misclass = 1 - accuracy\n",
    "\n",
    "    if cmap is None:\n",
    "        cmap = plt.get_cmap('Blues')\n",
    "\n",
    "    plt.figure(figsize=(4, 4))\n",
    "    plt.imshow(cm, interpolation='nearest', cmap=cmap)\n",
    "    plt.title(title)\n",
    "    plt.colorbar()\n",
    "\n",
    "    if target_names is not None:\n",
    "        tick_marks = np.arange(len(target_names))\n",
    "        plt.xticks(tick_marks, target_names, rotation=45)\n",
    "        plt.yticks(tick_marks, target_names)\n",
    "\n",
    "    if normalize:\n",
    "        cm = cm.astype('float') / cm.sum(axis=1)[:, np.newaxis]\n",
    "\n",
    "\n",
    "    thresh = cm.max() / 1.5 if normalize else cm.max() / 2\n",
    "    for i, j in itertools.product(range(cm.shape[0]), range(cm.shape[1])):\n",
    "        if normalize:\n",
    "            plt.text(j, i, \"{:0.4f}\".format(cm[i, j]),\n",
    "                     horizontalalignment=\"center\",\n",
    "                     color=\"white\" if cm[i, j] > thresh else \"black\")\n",
    "        else:\n",
    "            plt.text(j, i, \"{:,}\".format(cm[i, j]),\n",
    "                     horizontalalignment=\"center\",\n",
    "                     color=\"white\" if cm[i, j] > thresh else \"black\")\n",
    "\n",
    "\n",
    "    plt.tight_layout()\n",
    "    plt.ylabel('True label')\n",
    "    plt.xlabel('Predicted label\\naccuracy={:0.4f}; misclass={:0.4f}'.format(accuracy, misclass))\n",
    "    plt.show()"
   ]
  },
  {
   "cell_type": "code",
   "execution_count": 7,
   "metadata": {},
   "outputs": [],
   "source": [
    "username = 'else'\n",
    "\n",
    "if username == 'Gabriel Raya':\n",
    "    root_dir = r'E:\\pathology-weakly-supervised-lung-cancer-growth-pattern-prediction'\n",
    "else: \n",
    "    # project and data directories\n",
    "    root_dir = r'Z:\\projects\\pathology-weakly-supervised-lung-cancer-growth-pattern-prediction'\n",
    "\n",
    "\n",
    "model_name = 'baseline_8_100_4task'\n",
    "# compressed image directories\n",
    "featurized_luad_dir = join(root_dir, 'results', 'tcga_luad', 'featurized')\n",
    "featurized_lusc_dir = join(root_dir, 'results', 'tcga_lusc', 'featurized')\n",
    "\n",
    "predictions_csv = join(root_dir, 'results', 'models', model_name, 'eval') + '\\preds.csv' "
   ]
  },
  {
   "cell_type": "code",
   "execution_count": 8,
   "metadata": {},
   "outputs": [
    {
     "data": {
      "text/html": [
       "<div>\n",
       "<style scoped>\n",
       "    .dataframe tbody tr th:only-of-type {\n",
       "        vertical-align: middle;\n",
       "    }\n",
       "\n",
       "    .dataframe tbody tr th {\n",
       "        vertical-align: top;\n",
       "    }\n",
       "\n",
       "    .dataframe thead th {\n",
       "        text-align: right;\n",
       "    }\n",
       "</style>\n",
       "<table border=\"1\" class=\"dataframe\">\n",
       "  <thead>\n",
       "    <tr style=\"text-align: right;\">\n",
       "      <th></th>\n",
       "      <th>Unnamed: 0</th>\n",
       "      <th>id</th>\n",
       "      <th>label</th>\n",
       "      <th>pred</th>\n",
       "    </tr>\n",
       "  </thead>\n",
       "  <tbody>\n",
       "    <tr>\n",
       "      <th>0</th>\n",
       "      <td>0</td>\n",
       "      <td>TCGA-05-4245-0</td>\n",
       "      <td>1</td>\n",
       "      <td>0.589170</td>\n",
       "    </tr>\n",
       "    <tr>\n",
       "      <th>1</th>\n",
       "      <td>1</td>\n",
       "      <td>TCGA-05-4249-0</td>\n",
       "      <td>1</td>\n",
       "      <td>0.912567</td>\n",
       "    </tr>\n",
       "    <tr>\n",
       "      <th>2</th>\n",
       "      <td>2</td>\n",
       "      <td>TCGA-05-4398-0</td>\n",
       "      <td>1</td>\n",
       "      <td>0.906325</td>\n",
       "    </tr>\n",
       "    <tr>\n",
       "      <th>3</th>\n",
       "      <td>3</td>\n",
       "      <td>TCGA-05-4418-0</td>\n",
       "      <td>1</td>\n",
       "      <td>0.519700</td>\n",
       "    </tr>\n",
       "    <tr>\n",
       "      <th>4</th>\n",
       "      <td>4</td>\n",
       "      <td>TCGA-05-4426-0</td>\n",
       "      <td>1</td>\n",
       "      <td>0.777616</td>\n",
       "    </tr>\n",
       "    <tr>\n",
       "      <th>5</th>\n",
       "      <td>5</td>\n",
       "      <td>TCGA-18-3406-0</td>\n",
       "      <td>0</td>\n",
       "      <td>0.079645</td>\n",
       "    </tr>\n",
       "    <tr>\n",
       "      <th>6</th>\n",
       "      <td>6</td>\n",
       "      <td>TCGA-18-3408-0</td>\n",
       "      <td>0</td>\n",
       "      <td>0.558530</td>\n",
       "    </tr>\n",
       "    <tr>\n",
       "      <th>7</th>\n",
       "      <td>7</td>\n",
       "      <td>TCGA-18-3410-0</td>\n",
       "      <td>0</td>\n",
       "      <td>0.039116</td>\n",
       "    </tr>\n",
       "    <tr>\n",
       "      <th>8</th>\n",
       "      <td>8</td>\n",
       "      <td>TCGA-18-3414-0</td>\n",
       "      <td>0</td>\n",
       "      <td>0.060300</td>\n",
       "    </tr>\n",
       "    <tr>\n",
       "      <th>9</th>\n",
       "      <td>9</td>\n",
       "      <td>TCGA-18-4086-0</td>\n",
       "      <td>0</td>\n",
       "      <td>0.004281</td>\n",
       "    </tr>\n",
       "    <tr>\n",
       "      <th>10</th>\n",
       "      <td>10</td>\n",
       "      <td>TCGA-21-1080-0</td>\n",
       "      <td>0</td>\n",
       "      <td>0.058716</td>\n",
       "    </tr>\n",
       "    <tr>\n",
       "      <th>11</th>\n",
       "      <td>11</td>\n",
       "      <td>TCGA-21-1081-0</td>\n",
       "      <td>0</td>\n",
       "      <td>0.360201</td>\n",
       "    </tr>\n",
       "    <tr>\n",
       "      <th>12</th>\n",
       "      <td>12</td>\n",
       "      <td>TCGA-21-5782-0</td>\n",
       "      <td>0</td>\n",
       "      <td>0.254943</td>\n",
       "    </tr>\n",
       "    <tr>\n",
       "      <th>13</th>\n",
       "      <td>13</td>\n",
       "      <td>TCGA-22-1005-0</td>\n",
       "      <td>0</td>\n",
       "      <td>0.293604</td>\n",
       "    </tr>\n",
       "    <tr>\n",
       "      <th>14</th>\n",
       "      <td>14</td>\n",
       "      <td>TCGA-22-4601-0</td>\n",
       "      <td>0</td>\n",
       "      <td>0.541984</td>\n",
       "    </tr>\n",
       "    <tr>\n",
       "      <th>15</th>\n",
       "      <td>15</td>\n",
       "      <td>TCGA-22-5482-0</td>\n",
       "      <td>0</td>\n",
       "      <td>0.056510</td>\n",
       "    </tr>\n",
       "    <tr>\n",
       "      <th>16</th>\n",
       "      <td>16</td>\n",
       "      <td>TCGA-22-5492-0</td>\n",
       "      <td>0</td>\n",
       "      <td>0.011989</td>\n",
       "    </tr>\n",
       "    <tr>\n",
       "      <th>17</th>\n",
       "      <td>17</td>\n",
       "      <td>TCGA-22-A5C4-0</td>\n",
       "      <td>0</td>\n",
       "      <td>0.194691</td>\n",
       "    </tr>\n",
       "    <tr>\n",
       "      <th>18</th>\n",
       "      <td>18</td>\n",
       "      <td>TCGA-33-4532-0</td>\n",
       "      <td>0</td>\n",
       "      <td>0.129449</td>\n",
       "    </tr>\n",
       "    <tr>\n",
       "      <th>19</th>\n",
       "      <td>19</td>\n",
       "      <td>TCGA-33-4533-0</td>\n",
       "      <td>0</td>\n",
       "      <td>0.718849</td>\n",
       "    </tr>\n",
       "    <tr>\n",
       "      <th>20</th>\n",
       "      <td>20</td>\n",
       "      <td>TCGA-33-4533-0</td>\n",
       "      <td>0</td>\n",
       "      <td>0.012846</td>\n",
       "    </tr>\n",
       "    <tr>\n",
       "      <th>21</th>\n",
       "      <td>21</td>\n",
       "      <td>TCGA-33-4538-0</td>\n",
       "      <td>0</td>\n",
       "      <td>0.000116</td>\n",
       "    </tr>\n",
       "    <tr>\n",
       "      <th>22</th>\n",
       "      <td>22</td>\n",
       "      <td>TCGA-33-4538-0</td>\n",
       "      <td>0</td>\n",
       "      <td>0.004175</td>\n",
       "    </tr>\n",
       "    <tr>\n",
       "      <th>23</th>\n",
       "      <td>23</td>\n",
       "      <td>TCGA-33-4538-0</td>\n",
       "      <td>0</td>\n",
       "      <td>0.000452</td>\n",
       "    </tr>\n",
       "    <tr>\n",
       "      <th>24</th>\n",
       "      <td>24</td>\n",
       "      <td>TCGA-33-4547-0</td>\n",
       "      <td>0</td>\n",
       "      <td>0.001245</td>\n",
       "    </tr>\n",
       "  </tbody>\n",
       "</table>\n",
       "</div>"
      ],
      "text/plain": [
       "    Unnamed: 0              id  label      pred\n",
       "0            0  TCGA-05-4245-0      1  0.589170\n",
       "1            1  TCGA-05-4249-0      1  0.912567\n",
       "2            2  TCGA-05-4398-0      1  0.906325\n",
       "3            3  TCGA-05-4418-0      1  0.519700\n",
       "4            4  TCGA-05-4426-0      1  0.777616\n",
       "5            5  TCGA-18-3406-0      0  0.079645\n",
       "6            6  TCGA-18-3408-0      0  0.558530\n",
       "7            7  TCGA-18-3410-0      0  0.039116\n",
       "8            8  TCGA-18-3414-0      0  0.060300\n",
       "9            9  TCGA-18-4086-0      0  0.004281\n",
       "10          10  TCGA-21-1080-0      0  0.058716\n",
       "11          11  TCGA-21-1081-0      0  0.360201\n",
       "12          12  TCGA-21-5782-0      0  0.254943\n",
       "13          13  TCGA-22-1005-0      0  0.293604\n",
       "14          14  TCGA-22-4601-0      0  0.541984\n",
       "15          15  TCGA-22-5482-0      0  0.056510\n",
       "16          16  TCGA-22-5492-0      0  0.011989\n",
       "17          17  TCGA-22-A5C4-0      0  0.194691\n",
       "18          18  TCGA-33-4532-0      0  0.129449\n",
       "19          19  TCGA-33-4533-0      0  0.718849\n",
       "20          20  TCGA-33-4533-0      0  0.012846\n",
       "21          21  TCGA-33-4538-0      0  0.000116\n",
       "22          22  TCGA-33-4538-0      0  0.004175\n",
       "23          23  TCGA-33-4538-0      0  0.000452\n",
       "24          24  TCGA-33-4547-0      0  0.001245"
      ]
     },
     "execution_count": 8,
     "metadata": {},
     "output_type": "execute_result"
    }
   ],
   "source": [
    "# Get predictions\n",
    "predcs = pd.read_csv(predictions_csv)\n",
    "predcs.head(25)"
   ]
  },
  {
   "cell_type": "code",
   "execution_count": 16,
   "metadata": {},
   "outputs": [],
   "source": [
    "import numpy as np\n",
    "from sklearn.metrics import confusion_matrix\n",
    "import matplotlib.pyplot as plt\n",
    "import itertools\n",
    "import os"
   ]
  },
  {
   "cell_type": "code",
   "execution_count": 10,
   "metadata": {},
   "outputs": [
    {
     "data": {
      "image/png": "[encoded data removed]",
      "text/plain": [
       "<Figure size 288x288 with 2 Axes>"
      ]
     },
     "metadata": {
      "needs_background": "light"
     },
     "output_type": "display_data"
    }
   ],
   "source": [
    "probs, labels = np.array(predcs['pred']),  np.array(predcs['label'])\n",
    "cm = confusion_matrix(labels.astype(int), np.round(probs).astype(int)) \n",
    "\n",
    "plot_confusion_matrix(cm, \n",
    "                      normalize    = False,\n",
    "                      target_names = ['LUAD', 'LUSC'],\n",
    "                      title        = \"Standard Model\")"
   ]
  },
  {
   "cell_type": "code",
   "execution_count": null,
   "metadata": {},
   "outputs": [],
   "source": [
    "def get_missclasified()\n"
   ]
  },
  {
   "cell_type": "code",
   "execution_count": null,
   "metadata": {},
   "outputs": [],
   "source": [
    "def top_misclassified(df, threshold):\n",
    "    labels = df['label']\n",
    "    "
   ]
  },
  {
   "cell_type": "code",
   "execution_count": 28,
   "metadata": {},
   "outputs": [],
   "source": [
    "tp = predcs['label']==1 "
   ]
  },
  {
   "cell_type": "code",
   "execution_count": null,
   "metadata": {},
   "outputs": [],
   "source": []
  },
  {
   "cell_type": "code",
   "execution_count": 70,
   "metadata": {},
   "outputs": [
    {
     "data": {
      "text/plain": [
       "['baseline_8_100_4task',\n",
       " 'baseline_8_100_bigan',\n",
       " 'baseline_aug_8_100',\n",
       " 'baseline_aug_8_100_4task',\n",
       " 'baseline_aug_8_2']"
      ]
     },
     "execution_count": 70,
     "metadata": {},
     "output_type": "execute_result"
    }
   ],
   "source": [
    "os.listdir(models_dir)"
   ]
  },
  {
   "cell_type": "markdown",
   "metadata": {},
   "source": [
    "# Results"
   ]
  },
  {
   "cell_type": "code",
   "execution_count": 71,
   "metadata": {},
   "outputs": [],
   "source": [
    "root_dir = r'Z:\\projects\\pathology-weakly-supervised-lung-cancer-growth-pattern-prediction'\n",
    "models_dir = join(root_dir, 'results', 'models')\n",
    "\n",
    "model_names = ['baseline_8_100_4task', 'baseline_aug_8_100', 'baseline_aug_8_100_4task', 'baseline_aug_8_2']\n",
    "model_names = os.listdir(models_dir)\n",
    "\n"
   ]
  },
  {
   "cell_type": "code",
   "execution_count": 72,
   "metadata": {},
   "outputs": [
    {
     "name": "stdout",
     "output_type": "stream",
     "text": [
      "Z:\\projects\\pathology-weakly-supervised-lung-cancer-growth-pattern-prediction\\results\\models\\baseline_8_100_4task\\eval\\preds.csv\n",
      "Z:\\projects\\pathology-weakly-supervised-lung-cancer-growth-pattern-prediction\\results\\models\\baseline_aug_8_100\\eval\\preds.csv\n",
      "Z:\\projects\\pathology-weakly-supervised-lung-cancer-growth-pattern-prediction\\results\\models\\baseline_aug_8_100_4task\\eval\\preds.csv\n",
      "Z:\\projects\\pathology-weakly-supervised-lung-cancer-growth-pattern-prediction\\results\\models\\baseline_aug_8_2\\eval\\preds.csv\n"
     ]
    }
   ],
   "source": [
    "for model_name in model_paths:\n",
    "    print(model_paths[model_name])"
   ]
  },
  {
   "cell_type": "code",
   "execution_count": 73,
   "metadata": {},
   "outputs": [
    {
     "data": {
      "image/png": "[encoded data removed]",
      "text/plain": [
       "<Figure size 864x576 with 1 Axes>"
      ]
     },
     "metadata": {
      "needs_background": "light"
     },
     "output_type": "display_data"
    }
   ],
   "source": [
    "from model_training import plot_roc\n",
    "from sklearn.metrics import roc_curve, auc\n",
    "%matplotlib inline\n",
    "\n",
    "def get_predictions(csv_preds_path):\n",
    "    df = pd.read_csv(csv_preds_path, header=0, index_col=0)\n",
    "    labels, preds = df['label'].values.astype('int'), df['pred'].values\n",
    "    return labels, preds\n",
    "\n",
    "def plot_roc(labels, probs, name):\n",
    "    fpr, tpr, _ = roc_curve(labels, probs)\n",
    "    roc_auc = auc(fpr, tpr)\n",
    "    title = '{tag}(AUC = {a:0.3f})'.format(tag=name, a=roc_auc)\n",
    "    plt.plot(fpr, tpr, label=title)\n",
    "\n",
    "\n",
    "plt.figure(figsize=(12, 8))\n",
    "for model_name in model_names:\n",
    "    plot_roc(*get_predictions(join(models_dir, model_name,'eval', 'preds.csv')), model_name)\n",
    "plt.plot([0, 1], label='random guessing', linestyle='dashed')\n",
    "plt.xlabel('false positive rate')\n",
    "plt.ylabel('true positive rate')\n",
    "plt.title('Receiver operating characteristic')\n",
    "plt.legend()\n",
    "plt.show()"
   ]
  },
  {
   "cell_type": "code",
   "execution_count": 59,
   "metadata": {},
   "outputs": [
    {
     "data": {
      "text/plain": [
       "<matplotlib.legend.Legend at 0x1db18f5edd8>"
      ]
     },
     "execution_count": 59,
     "metadata": {},
     "output_type": "execute_result"
    },
    {
     "data": {
      "image/png": "[encoded data removed]",
      "text/plain": [
       "<Figure size 432x288 with 1 Axes>"
      ]
     },
     "metadata": {
      "needs_background": "light"
     },
     "output_type": "display_data"
    }
   ],
   "source": [
    "fpr, tpr, _ = roc_curve(labels, preds)\n",
    "roc_auc = auc(fpr, tpr)\n",
    "# plt.figure()\n",
    "lw = 2\n",
    "l = 'ROC {tag}(area = {a:0.3f})'.format(tag='' if legend_label is None else legend_label, a=roc_auc)\n",
    "plt.plot(fpr, tpr, lw=lw, label=l)\n",
    "plt.plot([0, 1], [0, 1], color='navy', lw=lw, linestyle='--')\n",
    "plt.xlim([0.0, 1.0])\n",
    "plt.ylim([0.0, 1.05])\n",
    "plt.xlabel('False Positive Rate')\n",
    "plt.ylabel('True Positive Rate')\n",
    "plt.title('Receiver operating characteristic')\n",
    "plt.grid(b=True, which='both')\n",
    "plt.legend(loc=\"lower right\")\n"
   ]
  },
  {
   "cell_type": "code",
   "execution_count": null,
   "metadata": {},
   "outputs": [],
   "source": [
    "\n",
    "\n",
    "# F1 score\n",
    "f1_s, f1_th = f1_score_plot(labels, preds, join(output_dir, 'f1.png'))\n",
    "results['f1_score'] = [f1_s]\n",
    "results['f1_threshold'] = [f1_th]\n",
    "\n",
    "# Store\n",
    "pd.DataFrame(results).T.to_csv(join(output_dir, 'metrics.csv'))"
   ]
  },
  {
   "cell_type": "code",
   "execution_count": 20,
   "metadata": {},
   "outputs": [
    {
     "name": "stdout",
     "output_type": "stream",
     "text": [
      "Loading test set ...\n",
      "FeaturizedWsiSequence data config: {'data_dir_luad': 'E:\\\\pathology-weakly-supervised-lung-cancer-growth-pattern-prediction\\\\results\\\\tcga_luad\\\\featurized', 'data_dir_lusc': 'E:\\\\pathology-weakly-supervised-lung-cancer-growth-pattern-prediction\\\\results\\\\tcga_lusc\\\\featurized', 'csv_path': 'E:\\\\pathology-weakly-supervised-lung-cancer-growth-pattern-prediction\\\\data\\\\test_slide_list_tcga.csv'}\n",
      "FeaturizedWsiSequence using 0 samples and 0 batches, distributed in 0 positive and 0 negative samples.\n"
     ]
    }
   ],
   "source": [
    "# Test set\n",
    "from data_processing import read_data, FeaturizedWsiSequence\n",
    "\n",
    "\n",
    "print('Loading test set ...', flush=True)\n",
    "test_gen = FeaturizedWsiSequence(\n",
    "    data_config,\n",
    "    data_fn=read_data,\n",
    "    batch_size=2,\n",
    "    crop_size=400,\n",
    "    cache_dir=None,\n",
    "    balanced=False,\n",
    "    keep_data=False,\n",
    "    return_ids=True\n",
    ")"
   ]
  },
  {
   "cell_type": "code",
   "execution_count": 12,
   "metadata": {},
   "outputs": [
    {
     "ename": "NameError",
     "evalue": "name 'test_gen' is not defined",
     "output_type": "error",
     "traceback": [
      "\u001b[1;31m---------------------------------------------------------------------------\u001b[0m",
      "\u001b[1;31mNameError\u001b[0m                                 Traceback (most recent call last)",
      "\u001b[1;32m<ipython-input-12-270956bd0d5a>\u001b[0m in \u001b[0;36m<module>\u001b[1;34m\u001b[0m\n\u001b[0;32m      3\u001b[0m \u001b[0mlabels\u001b[0m \u001b[1;33m=\u001b[0m \u001b[1;33m[\u001b[0m\u001b[1;33m]\u001b[0m\u001b[1;33m\u001b[0m\u001b[1;33m\u001b[0m\u001b[0m\n\u001b[0;32m      4\u001b[0m \u001b[0mpreds\u001b[0m \u001b[1;33m=\u001b[0m \u001b[1;33m[\u001b[0m\u001b[1;33m]\u001b[0m\u001b[1;33m\u001b[0m\u001b[1;33m\u001b[0m\u001b[0m\n\u001b[1;32m----> 5\u001b[1;33m \u001b[1;32mfor\u001b[0m \u001b[0mi\u001b[0m \u001b[1;32min\u001b[0m \u001b[0mrange\u001b[0m\u001b[1;33m(\u001b[0m\u001b[0mlen\u001b[0m\u001b[1;33m(\u001b[0m\u001b[0mtest_gen\u001b[0m\u001b[1;33m)\u001b[0m\u001b[1;33m)\u001b[0m\u001b[1;33m:\u001b[0m\u001b[1;33m\u001b[0m\u001b[1;33m\u001b[0m\u001b[0m\n\u001b[0m\u001b[0;32m      6\u001b[0m \u001b[1;33m\u001b[0m\u001b[0m\n\u001b[0;32m      7\u001b[0m     \u001b[0mprint\u001b[0m\u001b[1;33m(\u001b[0m\u001b[1;34m'Predicting batch {i}/{n} ...'\u001b[0m\u001b[1;33m.\u001b[0m\u001b[0mformat\u001b[0m\u001b[1;33m(\u001b[0m\u001b[0mi\u001b[0m\u001b[1;33m=\u001b[0m\u001b[0mi\u001b[0m \u001b[1;33m+\u001b[0m \u001b[1;36m1\u001b[0m\u001b[1;33m,\u001b[0m \u001b[0mn\u001b[0m\u001b[1;33m=\u001b[0m\u001b[0mlen\u001b[0m\u001b[1;33m(\u001b[0m\u001b[0mtest_gen\u001b[0m\u001b[1;33m)\u001b[0m\u001b[1;33m)\u001b[0m\u001b[1;33m,\u001b[0m \u001b[0mflush\u001b[0m\u001b[1;33m=\u001b[0m\u001b[1;32mTrue\u001b[0m\u001b[1;33m)\u001b[0m\u001b[1;33m\u001b[0m\u001b[1;33m\u001b[0m\u001b[0m\n",
      "\u001b[1;31mNameError\u001b[0m: name 'test_gen' is not defined"
     ]
    }
   ],
   "source": [
    "# Predictions\n",
    "ids = []\n",
    "labels = []\n",
    "preds = []\n",
    "for i in range(len(test_gen)):\n",
    "\n",
    "    print('Predicting batch {i}/{n} ...'.format(i=i + 1, n=len(test_gen)), flush=True)\n",
    "    x, y, id = test_gen[i]\n",
    "\n",
    "    pred = model.predict_on_batch(x)\n",
    "    if pred.shape[-1] > 2:\n",
    "        pred = pred.argmax(axis=-1)\n",
    "    else:\n",
    "        pred = pred[:, 1]\n",
    "\n",
    "    ids.extend(id)\n",
    "    labels.extend(y.argmax(axis=-1))\n",
    "    preds.extend(pred)"
   ]
  },
  {
   "cell_type": "code",
   "execution_count": 24,
   "metadata": {},
   "outputs": [
    {
     "data": {
      "text/plain": [
       "[]"
      ]
     },
     "execution_count": 24,
     "metadata": {},
     "output_type": "execute_result"
    }
   ],
   "source": [
    "preds"
   ]
  },
  {
   "cell_type": "code",
   "execution_count": 1,
   "metadata": {},
   "outputs": [],
   "source": [
    "%matplotlib inline\n",
    "import numpy as np\n",
    "import matplotlib.pyplot as plt\n",
    "from tqdm.notebook import tqdm, trange\n",
    "from collections import defaultdict\n",
    "from sklearn.metrics import confusion_matrix\n",
    "import torch, torchvision\n",
    "import itertools\n",
    "\n",
    "import data\n",
    "import model"
   ]
  },
  {
   "cell_type": "code",
   "execution_count": null,
   "metadata": {},
   "outputs": [],
   "source": []
  },
  {
   "cell_type": "code",
   "execution_count": 2,
   "metadata": {},
   "outputs": [],
   "source": [
    "def plot_confusion_matrix(cm, target_names, title='Confusion matrix', cmap=None, normalize=True):\n",
    "\n",
    "\n",
    "    accuracy = np.trace(cm) / float(np.sum(cm))\n",
    "    misclass = 1 - accuracy\n",
    "\n",
    "    if cmap is None:\n",
    "        cmap = plt.get_cmap('Blues')\n",
    "\n",
    "    plt.figure(figsize=(4, 4))\n",
    "    plt.imshow(cm, interpolation='nearest', cmap=cmap)\n",
    "    plt.title(title)\n",
    "    plt.colorbar()\n",
    "\n",
    "    if target_names is not None:\n",
    "        tick_marks = np.arange(len(target_names))\n",
    "        plt.xticks(tick_marks, target_names, rotation=45)\n",
    "        plt.yticks(tick_marks, target_names)\n",
    "\n",
    "    if normalize:\n",
    "        cm = cm.astype('float') / cm.sum(axis=1)[:, np.newaxis]\n",
    "\n",
    "\n",
    "    thresh = cm.max() / 1.5 if normalize else cm.max() / 2\n",
    "    for i, j in itertools.product(range(cm.shape[0]), range(cm.shape[1])):\n",
    "        if normalize:\n",
    "            plt.text(j, i, \"{:0.4f}\".format(cm[i, j]),\n",
    "                     horizontalalignment=\"center\",\n",
    "                     color=\"white\" if cm[i, j] > thresh else \"black\")\n",
    "        else:\n",
    "            plt.text(j, i, \"{:,}\".format(cm[i, j]),\n",
    "                     horizontalalignment=\"center\",\n",
    "                     color=\"white\" if cm[i, j] > thresh else \"black\")\n",
    "\n",
    "\n",
    "    plt.tight_layout()\n",
    "    plt.ylabel('True label')\n",
    "    plt.xlabel('Predicted label\\naccuracy={:0.4f}; misclass={:0.4f}'.format(accuracy, misclass))\n",
    "    plt.show()"
   ]
  },
  {
   "cell_type": "code",
   "execution_count": 3,
   "metadata": {},
   "outputs": [
    {
     "data": {
      "image/png": "[encoded data removed]",
      "text/plain": [
       "<Figure size 432x288 with 1 Axes>"
      ]
     },
     "metadata": {
      "needs_background": "light"
     },
     "output_type": "display_data"
    }
   ],
   "source": [
    "def softmax(x):\n",
    "    return np.exp(x[:, 1]) / np.sum(np.exp(x), axis=1)\n",
    "\n",
    "def evaluation(model, testloader):\n",
    "    correct = 0\n",
    "    total = 0\n",
    "    with torch.no_grad():\n",
    "        for images, labels in testloader:\n",
    "            outputs = model(images)\n",
    "            _, predicted = torch.max(outputs.data, 1)\n",
    "            total += labels.size(0)\n",
    "            correct += (predicted == labels).sum().item()\n",
    "\n",
    "    print('Accuracy of the network on the 10000 test images: %d %%' % (100 * correct / total))\n",
    "\n",
    "def imshow(img):\n",
    "    plt.imshow(np.transpose(img.numpy(), (1, 2, 0)))\n",
    "    plt.show()\n",
    "\n",
    "def run_model(model, testloader):\n",
    "    predictions = []\n",
    "    result_labels = []\n",
    "    for images, labels in tqdm(testloader):\n",
    "        outputs = model(images)\n",
    "        predictions += list(softmax(outputs.data.numpy()))\n",
    "        result_labels += list(labels)\n",
    "    predictions = np.array(predictions)\n",
    "    return predictions, result_labels\n",
    "\n",
    "def validate(model):\n",
    "    result = defaultdict(int)\n",
    "    for images, labels in tqdm(data.valid_loader):\n",
    "        outputs = model(images)\n",
    "        predictions = (outputs[:, 0] < outputs[:, 1]).data.numpy()\n",
    "        labels = labels.data.numpy().astype(bool)\n",
    "        result['tp'] += np.sum(labels & predictions)\n",
    "        result['fp'] += np.sum(np.logical_not(labels) & predictions)\n",
    "        result['tn'] += np.sum(np.logical_not(labels) & np.logical_not(predictions))\n",
    "        result['fn'] += np.sum(labels & np.logical_not(predictions))\n",
    "    return result\n",
    "\n",
    "def accuracy(results):\n",
    "    return (results['tp'] + results['tn']) / (results['tp'] + results['fp'] + results['tn'] +results['fn'] )\n",
    "\n",
    "images, labels = iter(data.valid_loader).next()\n",
    "imshow(torchvision.utils.make_grid(images))"
   ]
  },
  {
   "cell_type": "code",
   "execution_count": 4,
   "metadata": {},
   "outputs": [
    {
     "data": {
      "application/vnd.jupyter.widget-view+json": {
       "model_id": "f81f7fca814a4d31a3799a35c1b9967a",
       "version_major": 2,
       "version_minor": 0
      },
      "text/plain": [
       "HBox(children=(IntProgress(value=0, max=8), HTML(value='')))"
      ]
     },
     "metadata": {},
     "output_type": "display_data"
    },
    {
     "name": "stdout",
     "output_type": "stream",
     "text": [
      "\n",
      "0.79296875\n",
      "Accuracy of the network on the 10000 test images: 79 %\n"
     ]
    }
   ],
   "source": [
    "standard_model = model.Standard(load_from='./model/standard.pth')\n",
    "results = validate(standard_model)\n",
    "print(accuracy(results))\n",
    "evaluation(standard_model, data.valid_loader)"
   ]
  },
  {
   "cell_type": "code",
   "execution_count": 5,
   "metadata": {},
   "outputs": [
    {
     "data": {
      "application/vnd.jupyter.widget-view+json": {
       "model_id": "2d830491df084aea9fcf450a3b3ae516",
       "version_major": 2,
       "version_minor": 0
      },
      "text/plain": [
       "HBox(children=(IntProgress(value=0, max=8), HTML(value='')))"
      ]
     },
     "metadata": {},
     "output_type": "display_data"
    },
    {
     "name": "stdout",
     "output_type": "stream",
     "text": [
      "\n",
      "0.796875\n",
      "Accuracy of the network on the 10000 test images: 79 %\n"
     ]
    }
   ],
   "source": [
    "equivariant_model = model.Equivariant(load_from='./model/equivariant.pth')\n",
    "results = validate(equivariant_model)\n",
    "print(accuracy(results))\n",
    "evaluation(equivariant_model, data.valid_loader)"
   ]
  },
  {
   "cell_type": "code",
   "execution_count": 6,
   "metadata": {},
   "outputs": [
    {
     "data": {
      "application/vnd.jupyter.widget-view+json": {
       "model_id": "98a8c79dfdaa45438288d9ebbf259094",
       "version_major": 2,
       "version_minor": 0
      },
      "text/plain": [
       "HBox(children=(IntProgress(value=0, max=8), HTML(value='')))"
      ]
     },
     "metadata": {},
     "output_type": "display_data"
    },
    {
     "name": "stdout",
     "output_type": "stream",
     "text": [
      "\n"
     ]
    },
    {
     "data": {
      "image/png": "[encoded data removed]",
      "text/plain": [
       "<Figure size 288x288 with 2 Axes>"
      ]
     },
     "metadata": {
      "needs_background": "light"
     },
     "output_type": "display_data"
    }
   ],
   "source": [
    "probs, labels = run_model(standard_model, data.valid_loader)\n",
    "\n",
    "cm = confusion_matrix(np.round(labels).astype(int), np.round(probs).astype(int)) \n",
    "\n",
    "plot_confusion_matrix(cm, \n",
    "                      normalize    = False,\n",
    "                      target_names = ['Non-Tumor', 'Tumor'],\n",
    "                      title        = \"Standard Model\")"
   ]
  },
  {
   "cell_type": "code",
   "execution_count": 7,
   "metadata": {},
   "outputs": [
    {
     "data": {
      "application/vnd.jupyter.widget-view+json": {
       "model_id": "f85b98fe020744bd8b369194f2e9a9b4",
       "version_major": 2,
       "version_minor": 0
      },
      "text/plain": [
       "HBox(children=(IntProgress(value=0, max=8), HTML(value='')))"
      ]
     },
     "metadata": {},
     "output_type": "display_data"
    },
    {
     "name": "stdout",
     "output_type": "stream",
     "text": [
      "\n"
     ]
    },
    {
     "data": {
      "image/png": "[encoded data removed]",
      "text/plain": [
       "<Figure size 288x288 with 2 Axes>"
      ]
     },
     "metadata": {
      "needs_background": "light"
     },
     "output_type": "display_data"
    }
   ],
   "source": [
    "probs, labels = run_model(equivariant_model, data.valid_loader)\n",
    "\n",
    "cm = confusion_matrix(np.round(labels).astype(int), np.round(probs).astype(int)) \n",
    "\n",
    "plot_confusion_matrix(cm, \n",
    "                      normalize    = False,\n",
    "                      target_names = ['Non-Tumor', 'Tumor'],\n",
    "                      title        = \"Standard Model\")"
   ]
  },
  {
   "cell_type": "code",
   "execution_count": 8,
   "metadata": {},
   "outputs": [
    {
     "data": {
      "application/vnd.jupyter.widget-view+json": {
       "model_id": "627ddfba5c3d4f7184253a164675302e",
       "version_major": 2,
       "version_minor": 0
      },
      "text/plain": [
       "HBox(children=(IntProgress(value=0, max=8), HTML(value='')))"
      ]
     },
     "metadata": {},
     "output_type": "display_data"
    },
    {
     "name": "stdout",
     "output_type": "stream",
     "text": [
      "\n"
     ]
    },
    {
     "data": {
      "application/vnd.jupyter.widget-view+json": {
       "model_id": "777f1051af6e41a3bfc77c946f9cc6ff",
       "version_major": 2,
       "version_minor": 0
      },
      "text/plain": [
       "HBox(children=(IntProgress(value=0, max=8), HTML(value='')))"
      ]
     },
     "metadata": {},
     "output_type": "display_data"
    },
    {
     "name": "stdout",
     "output_type": "stream",
     "text": [
      "\n"
     ]
    },
    {
     "data": {
      "image/png": "[encoded data removed]",
      "text/plain": [
       "<Figure size 864x576 with 1 Axes>"
      ]
     },
     "metadata": {
      "needs_background": "light"
     },
     "output_type": "display_data"
    }
   ],
   "source": [
    "from sklearn.metrics import roc_curve\n",
    "import matplotlib.pyplot as plt\n",
    "\n",
    "def plot_roc(probs, labels, title):\n",
    "    fpr, tpr, _ = roc_curve(labels, probs)\n",
    "    plt.plot(fpr, tpr, label=title)\n",
    "\n",
    "plt.figure(figsize=(12, 8))\n",
    "plot_roc(*run_model(standard_model, data.valid_loader),'standard model')\n",
    "plot_roc(*run_model(equivariant_model, data.valid_loader), 'equivariant model')\n",
    "plt.plot([0, 1], label='random guessing', linestyle='dashed')\n",
    "plt.xlabel('false positive rate')\n",
    "plt.ylabel('true positive rate')\n",
    "plt.legend()\n",
    "plt.show()"
   ]
  },
  {
   "cell_type": "code",
   "execution_count": 13,
   "metadata": {},
   "outputs": [
    {
     "data": {
      "application/vnd.jupyter.widget-view+json": {
       "model_id": "5873d1bc1dcc4ca487cb4eb7df2cb95f",
       "version_major": 2,
       "version_minor": 0
      },
      "text/plain": [
       "HBox(children=(IntProgress(value=0, max=8), HTML(value='')))"
      ]
     },
     "metadata": {},
     "output_type": "display_data"
    },
    {
     "name": "stdout",
     "output_type": "stream",
     "text": [
      "\n",
      "auc for Standard Model classifier: 0.8823858341099721\n"
     ]
    },
    {
     "data": {
      "application/vnd.jupyter.widget-view+json": {
       "model_id": "0f37af788fd940e6a8aebc21287c5300",
       "version_major": 2,
       "version_minor": 0
      },
      "text/plain": [
       "HBox(children=(IntProgress(value=0, max=8), HTML(value='')))"
      ]
     },
     "metadata": {},
     "output_type": "display_data"
    },
    {
     "name": "stdout",
     "output_type": "stream",
     "text": [
      "\n",
      "auc for Equivariant Model classifier: 0.8949363156259708\n"
     ]
    }
   ],
   "source": [
    "def auc(probs, labels):\n",
    "    labels = np.round(labels).astype(int)\n",
    "    result = 0\n",
    "    true_zeros = probs[labels == 0]\n",
    "    true_ones = probs[labels == 1]\n",
    "    for true_zero in true_zeros:\n",
    "        for true_one in true_ones:\n",
    "            result += int(true_one > true_zero)\n",
    "    return result / (len(true_zeros) * len(true_ones))\n",
    "\n",
    "print(f'auc for Standard Model classifier: {auc(*run_model(standard_model, data.valid_loader))}')\n",
    "print(f'auc for Equivariant Model classifier: {auc(*run_model(equivariant_model, data.valid_loader))}')"
   ]
  },
  {
   "cell_type": "code",
   "execution_count": null,
   "metadata": {},
   "outputs": [],
   "source": [
    "standard_predictions = run_model(standard_model, data.valid_loader)[0]\n",
    "equivariant_predictions = run_model(equivariant_model, data.valid_loader)[0]\n",
    "\n",
    "plt.figure(figsize=(12, 8))\n",
    "plt.xlabel('standard model prediction')\n",
    "plt.ylabel('equivariant model prediction')\n",
    "plt.scatter(standard_predictions, equivariant_predictions)\n",
    "plt.show()"
   ]
  },
  {
   "cell_type": "code",
   "execution_count": null,
   "metadata": {},
   "outputs": [],
   "source": [
    "standard_predictions = np.round(standard_predictions).astype(int)\n",
    "equivariant_predictions = np.round(equivariant_predictions).astype(int)"
   ]
  },
  {
   "cell_type": "code",
   "execution_count": null,
   "metadata": {},
   "outputs": [],
   "source": [
    "# p-test\n",
    "\n",
    "from scipy.stats import binom\n",
    "\n",
    "\n",
    "wins_standard = sum((standard_predictions == 1) & (equivariant_predictions == 0)) #how often the standard model won\n",
    "wins_equivariant = sum((standard_predictions == 0) & (equivariant_predictions == 1)) #how often the equivariant model won\n",
    "N = wins_standard + wins_equivariant #how often one coin was a winner\n",
    "print('The standard_predictions won {} times, while the equivariant_predictions won {} times.'.format(wins_standard,wins_equivariant))"
   ]
  },
  {
   "cell_type": "code",
   "execution_count": null,
   "metadata": {},
   "outputs": [],
   "source": [
    "b = binom(N,0.5) #N=observations of inequality, p=prob of one coin being better, which is 0.5 according to your H0\n",
    "p_value = 1 - b.cdf(wins_equivariant)\n",
    "print('The p-value is {:.3f}'.format(p_value))"
   ]
  }
 ],
 "metadata": {
  "kernelspec": {
   "display_name": "tensorflow",
   "language": "python",
   "name": "tensorflow"
  },
  "language_info": {
   "codemirror_mode": {
    "name": "ipython",
    "version": 3
   },
   "file_extension": ".py",
   "mimetype": "text/x-python",
   "name": "python",
   "nbconvert_exporter": "python",
   "pygments_lexer": "ipython3",
   "version": "3.6.7"
  },
  "widgets": {
   "application/vnd.jupyter.widget-state+json": {
    "state": {
     "0e317940179c440580d53b7a05aa725a": {
      "model_module": "@jupyter-widgets/base",
      "model_module_version": "1.2.0",
      "model_name": "LayoutModel",
      "state": {}
     },
     "119b550beacd4ea7b899c5e44d81409e": {
      "model_module": "@jupyter-widgets/controls",
      "model_module_version": "1.5.0",
      "model_name": "HTMLModel",
      "state": {
       "layout": "IPY_MODEL_cfe918029fee4bdea6f0f35f2e0855df",
       "style": "IPY_MODEL_44ae50f892db4b1dbeb5ca84bfa7f22d",
       "value": " 8/8 [00:05&lt;00:00,  1.44it/s]"
      }
     },
     "16e258b694f945b6b2fb847be1fd1ddd": {
      "model_module": "@jupyter-widgets/base",
      "model_module_version": "1.2.0",
      "model_name": "LayoutModel",
      "state": {}
     },
     "19c75442ff174f89aaac146f93231d46": {
      "model_module": "@jupyter-widgets/controls",
      "model_module_version": "1.5.0",
      "model_name": "ProgressStyleModel",
      "state": {
       "description_width": "initial"
      }
     },
     "1abeeb0c08cf442bbed86cfb01874db5": {
      "model_module": "@jupyter-widgets/controls",
      "model_module_version": "1.5.0",
      "model_name": "HBoxModel",
      "state": {
       "children": [
        "IPY_MODEL_8e8a8eac26f54772b9f54290db0744ae",
        "IPY_MODEL_7de665f7f3fb4dec83fa57088ef5ce1b"
       ],
       "layout": "IPY_MODEL_e88103c4f1974e3faf4ed51662bdda36"
      }
     },
     "21e6e0960c06440da79d21c067dae075": {
      "model_module": "@jupyter-widgets/base",
      "model_module_version": "1.2.0",
      "model_name": "LayoutModel",
      "state": {}
     },
     "3462c945ef654d85bd8e140548e2f87c": {
      "model_module": "@jupyter-widgets/controls",
      "model_module_version": "1.5.0",
      "model_name": "ProgressStyleModel",
      "state": {
       "description_width": "initial"
      }
     },
     "3b45ddc154cd40e58e510a98a4da8ffd": {
      "model_module": "@jupyter-widgets/controls",
      "model_module_version": "1.5.0",
      "model_name": "DescriptionStyleModel",
      "state": {
       "description_width": ""
      }
     },
     "3cfb5cce4c414defb87c0b93fde6aa52": {
      "model_module": "@jupyter-widgets/base",
      "model_module_version": "1.2.0",
      "model_name": "LayoutModel",
      "state": {}
     },
     "3ff7069c4fa74a468c349a3abb7eae98": {
      "model_module": "@jupyter-widgets/controls",
      "model_module_version": "1.5.0",
      "model_name": "IntProgressModel",
      "state": {
       "bar_style": "success",
       "description": "100%",
       "layout": "IPY_MODEL_7f19c01cd988418eaaab787592bb86a1",
       "max": 8,
       "style": "IPY_MODEL_d3622e12055947e58e5d3efbe7851827",
       "value": 8
      }
     },
     "41158d860e004fbd811ce6a5f9df5ea8": {
      "model_module": "@jupyter-widgets/controls",
      "model_module_version": "1.5.0",
      "model_name": "HTMLModel",
      "state": {
       "layout": "IPY_MODEL_8e4523d6ba8645fb9bedf970e1cb0239",
       "style": "IPY_MODEL_b208f2368dc54969b61dde26abbf7e1d",
       "value": " 8/8 [00:05&lt;00:00,  1.48it/s]"
      }
     },
     "433ff1f001344954a9ac87aec0583e48": {
      "model_module": "@jupyter-widgets/base",
      "model_module_version": "1.2.0",
      "model_name": "LayoutModel",
      "state": {}
     },
     "44ae50f892db4b1dbeb5ca84bfa7f22d": {
      "model_module": "@jupyter-widgets/controls",
      "model_module_version": "1.5.0",
      "model_name": "DescriptionStyleModel",
      "state": {
       "description_width": ""
      }
     },
     "45735bf521de490aae179081249d1d8f": {
      "model_module": "@jupyter-widgets/controls",
      "model_module_version": "1.5.0",
      "model_name": "IntProgressModel",
      "state": {
       "bar_style": "success",
       "description": "100%",
       "layout": "IPY_MODEL_a0bea458f0be494299178198bf8bb9cb",
       "max": 8,
       "style": "IPY_MODEL_9c251d0d94d1498399fc63c060285dd1",
       "value": 8
      }
     },
     "4604e2a6a49145d4a022e539ef309a09": {
      "model_module": "@jupyter-widgets/controls",
      "model_module_version": "1.5.0",
      "model_name": "HTMLModel",
      "state": {
       "layout": "IPY_MODEL_dfb868957f0c4611bb9e89c2312ca4e9",
       "style": "IPY_MODEL_e30bdfac9005441291a23fab630bb722",
       "value": " 8/8 [00:11&lt;00:00,  1.43s/it]"
      }
     },
     "4682ff620e454233877417b4c6a135b2": {
      "model_module": "@jupyter-widgets/base",
      "model_module_version": "1.2.0",
      "model_name": "LayoutModel",
      "state": {}
     },
     "487b29457ee349adb21c8c6f16d4169a": {
      "model_module": "@jupyter-widgets/controls",
      "model_module_version": "1.5.0",
      "model_name": "ProgressStyleModel",
      "state": {
       "description_width": "initial"
      }
     },
     "489f9ad6553843e8bd3e05f91f001cea": {
      "model_module": "@jupyter-widgets/controls",
      "model_module_version": "1.5.0",
      "model_name": "HBoxModel",
      "state": {
       "children": [
        "IPY_MODEL_45735bf521de490aae179081249d1d8f",
        "IPY_MODEL_7c41c97154ed4d1da7a1762ed30933bf"
       ],
       "layout": "IPY_MODEL_433ff1f001344954a9ac87aec0583e48"
      }
     },
     "59b5586207924f85a4f7e7728a1b34d7": {
      "model_module": "@jupyter-widgets/controls",
      "model_module_version": "1.5.0",
      "model_name": "HBoxModel",
      "state": {
       "children": [
        "IPY_MODEL_aadbc6c2e89147bb9deca48c01cd6c1b",
        "IPY_MODEL_facbfeb389da40d4ad40570a1b87a95a"
       ],
       "layout": "IPY_MODEL_3cfb5cce4c414defb87c0b93fde6aa52"
      }
     },
     "5ae015ceda7e491f936938cd703ba90f": {
      "model_module": "@jupyter-widgets/controls",
      "model_module_version": "1.5.0",
      "model_name": "HBoxModel",
      "state": {
       "children": [
        "IPY_MODEL_c1e72a20d9bb43cd82e9dd5ff7729556",
        "IPY_MODEL_4604e2a6a49145d4a022e539ef309a09"
       ],
       "layout": "IPY_MODEL_8914e4a9d3f248f097a2f298f5e21570"
      }
     },
     "5b060ad33af64ec3a999ea442a4e2e88": {
      "model_module": "@jupyter-widgets/controls",
      "model_module_version": "1.5.0",
      "model_name": "ProgressStyleModel",
      "state": {
       "description_width": "initial"
      }
     },
     "5c4046c0084e49a98cc39855578780ae": {
      "model_module": "@jupyter-widgets/controls",
      "model_module_version": "1.5.0",
      "model_name": "IntProgressModel",
      "state": {
       "bar_style": "success",
       "description": "100%",
       "layout": "IPY_MODEL_64f5ae6fde654a1ea492a923d939a70f",
       "max": 8,
       "style": "IPY_MODEL_d8127efef1cc4efe9d36c21627a247e0",
       "value": 8
      }
     },
     "5d2abe8f8a944e3aa39fbcf11bc04b3c": {
      "model_module": "@jupyter-widgets/controls",
      "model_module_version": "1.5.0",
      "model_name": "DescriptionStyleModel",
      "state": {
       "description_width": ""
      }
     },
     "64f5ae6fde654a1ea492a923d939a70f": {
      "model_module": "@jupyter-widgets/base",
      "model_module_version": "1.2.0",
      "model_name": "LayoutModel",
      "state": {}
     },
     "66af45ad1e73478fb601fb893dce3fc1": {
      "model_module": "@jupyter-widgets/controls",
      "model_module_version": "1.5.0",
      "model_name": "HBoxModel",
      "state": {
       "children": [
        "IPY_MODEL_a6d58fba9dcb43f99112acbcae23dd2e",
        "IPY_MODEL_41158d860e004fbd811ce6a5f9df5ea8"
       ],
       "layout": "IPY_MODEL_96b0d53d314f462d8f8ce62236c20b79"
      }
     },
     "68db2a577058447e821298e64742a0e5": {
      "model_module": "@jupyter-widgets/controls",
      "model_module_version": "1.5.0",
      "model_name": "DescriptionStyleModel",
      "state": {
       "description_width": ""
      }
     },
     "6b9cde195a5841b99c6676af7c922143": {
      "model_module": "@jupyter-widgets/base",
      "model_module_version": "1.2.0",
      "model_name": "LayoutModel",
      "state": {}
     },
     "71c8449d26874366beda0f1efe1d2b12": {
      "model_module": "@jupyter-widgets/controls",
      "model_module_version": "1.5.0",
      "model_name": "ProgressStyleModel",
      "state": {
       "description_width": "initial"
      }
     },
     "73ed64e6fa0543178e945b4b421e9ce4": {
      "model_module": "@jupyter-widgets/base",
      "model_module_version": "1.2.0",
      "model_name": "LayoutModel",
      "state": {}
     },
     "745eb87326294d7587e5fa6594d49d29": {
      "model_module": "@jupyter-widgets/base",
      "model_module_version": "1.2.0",
      "model_name": "LayoutModel",
      "state": {}
     },
     "745ec20ed07b4706a3fb9d62168227a9": {
      "model_module": "@jupyter-widgets/base",
      "model_module_version": "1.2.0",
      "model_name": "LayoutModel",
      "state": {}
     },
     "7a62dde35f5d4f9a95acae28a39ff18c": {
      "model_module": "@jupyter-widgets/controls",
      "model_module_version": "1.5.0",
      "model_name": "HTMLModel",
      "state": {
       "layout": "IPY_MODEL_745ec20ed07b4706a3fb9d62168227a9",
       "style": "IPY_MODEL_5d2abe8f8a944e3aa39fbcf11bc04b3c",
       "value": " 8/8 [00:05&lt;00:00,  1.37it/s]"
      }
     },
     "7b9950a9a79a40289a12a09557d518a4": {
      "model_module": "@jupyter-widgets/base",
      "model_module_version": "1.2.0",
      "model_name": "LayoutModel",
      "state": {}
     },
     "7c41c97154ed4d1da7a1762ed30933bf": {
      "model_module": "@jupyter-widgets/controls",
      "model_module_version": "1.5.0",
      "model_name": "HTMLModel",
      "state": {
       "layout": "IPY_MODEL_d21280add8a945be81f0f22119b798f8",
       "style": "IPY_MODEL_cd266455b16949c38a333d5a51c5ce67",
       "value": " 8/8 [00:27&lt;00:00,  3.44s/it]"
      }
     },
     "7de665f7f3fb4dec83fa57088ef5ce1b": {
      "model_module": "@jupyter-widgets/controls",
      "model_module_version": "1.5.0",
      "model_name": "HTMLModel",
      "state": {
       "layout": "IPY_MODEL_c2835f0ff29848648e44d27e9d403b02",
       "style": "IPY_MODEL_3b45ddc154cd40e58e510a98a4da8ffd",
       "value": " 8/8 [00:10&lt;00:00,  1.29s/it]"
      }
     },
     "7df998f3340a45738619f68f962e0c97": {
      "model_module": "@jupyter-widgets/controls",
      "model_module_version": "1.5.0",
      "model_name": "HBoxModel",
      "state": {
       "children": [
        "IPY_MODEL_8e5850b240b6404a976e08acd2bb4cc6",
        "IPY_MODEL_7a62dde35f5d4f9a95acae28a39ff18c"
       ],
       "layout": "IPY_MODEL_7b9950a9a79a40289a12a09557d518a4"
      }
     },
     "7e1789d7a35f4e53a00147c542290c40": {
      "model_module": "@jupyter-widgets/controls",
      "model_module_version": "1.5.0",
      "model_name": "DescriptionStyleModel",
      "state": {
       "description_width": ""
      }
     },
     "7f19c01cd988418eaaab787592bb86a1": {
      "model_module": "@jupyter-widgets/base",
      "model_module_version": "1.2.0",
      "model_name": "LayoutModel",
      "state": {}
     },
     "848c3428fe654f12b656b62731af79fc": {
      "model_module": "@jupyter-widgets/controls",
      "model_module_version": "1.5.0",
      "model_name": "HBoxModel",
      "state": {
       "children": [
        "IPY_MODEL_3ff7069c4fa74a468c349a3abb7eae98",
        "IPY_MODEL_f407b4167df0455584888ca7f6388ac5"
       ],
       "layout": "IPY_MODEL_4682ff620e454233877417b4c6a135b2"
      }
     },
     "84f711d9ba40413899e4602cb1d8d809": {
      "model_module": "@jupyter-widgets/base",
      "model_module_version": "1.2.0",
      "model_name": "LayoutModel",
      "state": {}
     },
     "85ab2fa1b4ce4b4fadf96a9858a07988": {
      "model_module": "@jupyter-widgets/base",
      "model_module_version": "1.2.0",
      "model_name": "LayoutModel",
      "state": {}
     },
     "8914e4a9d3f248f097a2f298f5e21570": {
      "model_module": "@jupyter-widgets/base",
      "model_module_version": "1.2.0",
      "model_name": "LayoutModel",
      "state": {}
     },
     "8997de6b65d3402d959f51da4cef5fe3": {
      "model_module": "@jupyter-widgets/base",
      "model_module_version": "1.2.0",
      "model_name": "LayoutModel",
      "state": {}
     },
     "8e4523d6ba8645fb9bedf970e1cb0239": {
      "model_module": "@jupyter-widgets/base",
      "model_module_version": "1.2.0",
      "model_name": "LayoutModel",
      "state": {}
     },
     "8e5850b240b6404a976e08acd2bb4cc6": {
      "model_module": "@jupyter-widgets/controls",
      "model_module_version": "1.5.0",
      "model_name": "IntProgressModel",
      "state": {
       "bar_style": "success",
       "description": "100%",
       "layout": "IPY_MODEL_73ed64e6fa0543178e945b4b421e9ce4",
       "max": 8,
       "style": "IPY_MODEL_5b060ad33af64ec3a999ea442a4e2e88",
       "value": 8
      }
     },
     "8e8a8eac26f54772b9f54290db0744ae": {
      "model_module": "@jupyter-widgets/controls",
      "model_module_version": "1.5.0",
      "model_name": "IntProgressModel",
      "state": {
       "bar_style": "success",
       "description": "100%",
       "layout": "IPY_MODEL_6b9cde195a5841b99c6676af7c922143",
       "max": 8,
       "style": "IPY_MODEL_3462c945ef654d85bd8e140548e2f87c",
       "value": 8
      }
     },
     "8f853bf3bfbd47a9b8a8207e5427e75a": {
      "model_module": "@jupyter-widgets/controls",
      "model_module_version": "1.5.0",
      "model_name": "HTMLModel",
      "state": {
       "layout": "IPY_MODEL_f65e586c9c794bc58f4fb8f516ca140d",
       "style": "IPY_MODEL_d20a7006ddd94e038725f4aa39cfe9d0",
       "value": " 8/8 [00:08&lt;00:00,  1.04s/it]"
      }
     },
     "95fe4a529bdc420fae991036a6773962": {
      "model_module": "@jupyter-widgets/controls",
      "model_module_version": "1.5.0",
      "model_name": "DescriptionStyleModel",
      "state": {
       "description_width": ""
      }
     },
     "96b0d53d314f462d8f8ce62236c20b79": {
      "model_module": "@jupyter-widgets/base",
      "model_module_version": "1.2.0",
      "model_name": "LayoutModel",
      "state": {}
     },
     "9707ce712a774bada23e538f325799fa": {
      "model_module": "@jupyter-widgets/controls",
      "model_module_version": "1.5.0",
      "model_name": "ProgressStyleModel",
      "state": {
       "description_width": "initial"
      }
     },
     "9736a7029a2b440a9274c8044e7b8c3d": {
      "model_module": "@jupyter-widgets/controls",
      "model_module_version": "1.5.0",
      "model_name": "IntProgressModel",
      "state": {
       "bar_style": "success",
       "description": "100%",
       "layout": "IPY_MODEL_745eb87326294d7587e5fa6594d49d29",
       "max": 8,
       "style": "IPY_MODEL_febd5e70543c4ca99e177d22fe099625",
       "value": 8
      }
     },
     "98e4dfdf68564e55bca9a1c1610e51fe": {
      "model_module": "@jupyter-widgets/base",
      "model_module_version": "1.2.0",
      "model_name": "LayoutModel",
      "state": {}
     },
     "9c251d0d94d1498399fc63c060285dd1": {
      "model_module": "@jupyter-widgets/controls",
      "model_module_version": "1.5.0",
      "model_name": "ProgressStyleModel",
      "state": {
       "description_width": "initial"
      }
     },
     "a0bea458f0be494299178198bf8bb9cb": {
      "model_module": "@jupyter-widgets/base",
      "model_module_version": "1.2.0",
      "model_name": "LayoutModel",
      "state": {}
     },
     "a2c507c76e4a40bba6ee54374ba1e3b8": {
      "model_module": "@jupyter-widgets/controls",
      "model_module_version": "1.5.0",
      "model_name": "HBoxModel",
      "state": {
       "children": [
        "IPY_MODEL_9736a7029a2b440a9274c8044e7b8c3d",
        "IPY_MODEL_aae1ac254a8d4a9d92d95d16c28bfa23"
       ],
       "layout": "IPY_MODEL_dc744afa8ba040989253056fd69d25d7"
      }
     },
     "a387d0ef208a4e7990471f2c5f023fa3": {
      "model_module": "@jupyter-widgets/controls",
      "model_module_version": "1.5.0",
      "model_name": "HBoxModel",
      "state": {
       "children": [
        "IPY_MODEL_5c4046c0084e49a98cc39855578780ae",
        "IPY_MODEL_acaeefcb2f1e45988b6eb91b84325820"
       ],
       "layout": "IPY_MODEL_0e317940179c440580d53b7a05aa725a"
      }
     },
     "a63c337e01394b6dad4efff1cb04e852": {
      "model_module": "@jupyter-widgets/controls",
      "model_module_version": "1.5.0",
      "model_name": "HBoxModel",
      "state": {
       "children": [
        "IPY_MODEL_bcc0da2008734c33ab3b7ae89327418f",
        "IPY_MODEL_8f853bf3bfbd47a9b8a8207e5427e75a"
       ],
       "layout": "IPY_MODEL_d57aaed3939247c2baf1be8aa207f6fc"
      }
     },
     "a6d58fba9dcb43f99112acbcae23dd2e": {
      "model_module": "@jupyter-widgets/controls",
      "model_module_version": "1.5.0",
      "model_name": "IntProgressModel",
      "state": {
       "bar_style": "success",
       "description": "100%",
       "layout": "IPY_MODEL_f323450d58f6477fb5bcdab4d5bd8ca8",
       "max": 8,
       "style": "IPY_MODEL_9707ce712a774bada23e538f325799fa",
       "value": 8
      }
     },
     "aadbc6c2e89147bb9deca48c01cd6c1b": {
      "model_module": "@jupyter-widgets/controls",
      "model_module_version": "1.5.0",
      "model_name": "IntProgressModel",
      "state": {
       "bar_style": "success",
       "description": "100%",
       "layout": "IPY_MODEL_85ab2fa1b4ce4b4fadf96a9858a07988",
       "max": 8,
       "style": "IPY_MODEL_b71f684af6724baa80c183c9c4d25b4c",
       "value": 8
      }
     },
     "aae1ac254a8d4a9d92d95d16c28bfa23": {
      "model_module": "@jupyter-widgets/controls",
      "model_module_version": "1.5.0",
      "model_name": "HTMLModel",
      "state": {
       "layout": "IPY_MODEL_f36881fbc7054911aa7b57566a399374",
       "style": "IPY_MODEL_95fe4a529bdc420fae991036a6773962",
       "value": " 8/8 [00:06&lt;00:00,  1.28it/s]"
      }
     },
     "acaeefcb2f1e45988b6eb91b84325820": {
      "model_module": "@jupyter-widgets/controls",
      "model_module_version": "1.5.0",
      "model_name": "HTMLModel",
      "state": {
       "layout": "IPY_MODEL_21e6e0960c06440da79d21c067dae075",
       "style": "IPY_MODEL_7e1789d7a35f4e53a00147c542290c40",
       "value": " 8/8 [00:04&lt;00:00,  1.68it/s]"
      }
     },
     "b208f2368dc54969b61dde26abbf7e1d": {
      "model_module": "@jupyter-widgets/controls",
      "model_module_version": "1.5.0",
      "model_name": "DescriptionStyleModel",
      "state": {
       "description_width": ""
      }
     },
     "b3b7c37b295e4566abc7f8546d2e58ff": {
      "model_module": "@jupyter-widgets/controls",
      "model_module_version": "1.5.0",
      "model_name": "DescriptionStyleModel",
      "state": {
       "description_width": ""
      }
     },
     "b71f684af6724baa80c183c9c4d25b4c": {
      "model_module": "@jupyter-widgets/controls",
      "model_module_version": "1.5.0",
      "model_name": "ProgressStyleModel",
      "state": {
       "description_width": "initial"
      }
     },
     "bcc0da2008734c33ab3b7ae89327418f": {
      "model_module": "@jupyter-widgets/controls",
      "model_module_version": "1.5.0",
      "model_name": "IntProgressModel",
      "state": {
       "bar_style": "success",
       "description": "100%",
       "layout": "IPY_MODEL_e1012f8bb8bd489185834a71322475b3",
       "max": 8,
       "style": "IPY_MODEL_19c75442ff174f89aaac146f93231d46",
       "value": 8
      }
     },
     "c1e72a20d9bb43cd82e9dd5ff7729556": {
      "model_module": "@jupyter-widgets/controls",
      "model_module_version": "1.5.0",
      "model_name": "IntProgressModel",
      "state": {
       "bar_style": "success",
       "description": "100%",
       "layout": "IPY_MODEL_16e258b694f945b6b2fb847be1fd1ddd",
       "max": 8,
       "style": "IPY_MODEL_71c8449d26874366beda0f1efe1d2b12",
       "value": 8
      }
     },
     "c2835f0ff29848648e44d27e9d403b02": {
      "model_module": "@jupyter-widgets/base",
      "model_module_version": "1.2.0",
      "model_name": "LayoutModel",
      "state": {}
     },
     "cd266455b16949c38a333d5a51c5ce67": {
      "model_module": "@jupyter-widgets/controls",
      "model_module_version": "1.5.0",
      "model_name": "DescriptionStyleModel",
      "state": {
       "description_width": ""
      }
     },
     "cfe918029fee4bdea6f0f35f2e0855df": {
      "model_module": "@jupyter-widgets/base",
      "model_module_version": "1.2.0",
      "model_name": "LayoutModel",
      "state": {}
     },
     "d20a7006ddd94e038725f4aa39cfe9d0": {
      "model_module": "@jupyter-widgets/controls",
      "model_module_version": "1.5.0",
      "model_name": "DescriptionStyleModel",
      "state": {
       "description_width": ""
      }
     },
     "d21280add8a945be81f0f22119b798f8": {
      "model_module": "@jupyter-widgets/base",
      "model_module_version": "1.2.0",
      "model_name": "LayoutModel",
      "state": {}
     },
     "d3622e12055947e58e5d3efbe7851827": {
      "model_module": "@jupyter-widgets/controls",
      "model_module_version": "1.5.0",
      "model_name": "ProgressStyleModel",
      "state": {
       "description_width": "initial"
      }
     },
     "d57aaed3939247c2baf1be8aa207f6fc": {
      "model_module": "@jupyter-widgets/base",
      "model_module_version": "1.2.0",
      "model_name": "LayoutModel",
      "state": {}
     },
     "d8127efef1cc4efe9d36c21627a247e0": {
      "model_module": "@jupyter-widgets/controls",
      "model_module_version": "1.5.0",
      "model_name": "ProgressStyleModel",
      "state": {
       "description_width": "initial"
      }
     },
     "dc744afa8ba040989253056fd69d25d7": {
      "model_module": "@jupyter-widgets/base",
      "model_module_version": "1.2.0",
      "model_name": "LayoutModel",
      "state": {}
     },
     "dfb868957f0c4611bb9e89c2312ca4e9": {
      "model_module": "@jupyter-widgets/base",
      "model_module_version": "1.2.0",
      "model_name": "LayoutModel",
      "state": {}
     },
     "e1012f8bb8bd489185834a71322475b3": {
      "model_module": "@jupyter-widgets/base",
      "model_module_version": "1.2.0",
      "model_name": "LayoutModel",
      "state": {}
     },
     "e30bdfac9005441291a23fab630bb722": {
      "model_module": "@jupyter-widgets/controls",
      "model_module_version": "1.5.0",
      "model_name": "DescriptionStyleModel",
      "state": {
       "description_width": ""
      }
     },
     "e88103c4f1974e3faf4ed51662bdda36": {
      "model_module": "@jupyter-widgets/base",
      "model_module_version": "1.2.0",
      "model_name": "LayoutModel",
      "state": {}
     },
     "e8853b7d8c79470a8cc4a8a41f4d857e": {
      "model_module": "@jupyter-widgets/controls",
      "model_module_version": "1.5.0",
      "model_name": "IntProgressModel",
      "state": {
       "bar_style": "success",
       "description": "100%",
       "layout": "IPY_MODEL_f04ccc3659494faa9bfd7bdd959b2b56",
       "max": 8,
       "style": "IPY_MODEL_487b29457ee349adb21c8c6f16d4169a",
       "value": 8
      }
     },
     "e90ad87e075a450e975d4e62cc983055": {
      "model_module": "@jupyter-widgets/controls",
      "model_module_version": "1.5.0",
      "model_name": "HBoxModel",
      "state": {
       "children": [
        "IPY_MODEL_e8853b7d8c79470a8cc4a8a41f4d857e",
        "IPY_MODEL_119b550beacd4ea7b899c5e44d81409e"
       ],
       "layout": "IPY_MODEL_8997de6b65d3402d959f51da4cef5fe3"
      }
     },
     "f04ccc3659494faa9bfd7bdd959b2b56": {
      "model_module": "@jupyter-widgets/base",
      "model_module_version": "1.2.0",
      "model_name": "LayoutModel",
      "state": {}
     },
     "f323450d58f6477fb5bcdab4d5bd8ca8": {
      "model_module": "@jupyter-widgets/base",
      "model_module_version": "1.2.0",
      "model_name": "LayoutModel",
      "state": {}
     },
     "f36881fbc7054911aa7b57566a399374": {
      "model_module": "@jupyter-widgets/base",
      "model_module_version": "1.2.0",
      "model_name": "LayoutModel",
      "state": {}
     },
     "f407b4167df0455584888ca7f6388ac5": {
      "model_module": "@jupyter-widgets/controls",
      "model_module_version": "1.5.0",
      "model_name": "HTMLModel",
      "state": {
       "layout": "IPY_MODEL_98e4dfdf68564e55bca9a1c1610e51fe",
       "style": "IPY_MODEL_68db2a577058447e821298e64742a0e5",
       "value": " 8/8 [00:09&lt;00:00,  1.17s/it]"
      }
     },
     "f65e586c9c794bc58f4fb8f516ca140d": {
      "model_module": "@jupyter-widgets/base",
      "model_module_version": "1.2.0",
      "model_name": "LayoutModel",
      "state": {}
     },
     "facbfeb389da40d4ad40570a1b87a95a": {
      "model_module": "@jupyter-widgets/controls",
      "model_module_version": "1.5.0",
      "model_name": "HTMLModel",
      "state": {
       "layout": "IPY_MODEL_84f711d9ba40413899e4602cb1d8d809",
       "style": "IPY_MODEL_b3b7c37b295e4566abc7f8546d2e58ff",
       "value": " 8/8 [00:10&lt;00:00,  1.35s/it]"
      }
     },
     "febd5e70543c4ca99e177d22fe099625": {
      "model_module": "@jupyter-widgets/controls",
      "model_module_version": "1.5.0",
      "model_name": "ProgressStyleModel",
      "state": {
       "description_width": "initial"
      }
     }
    },
    "version_major": 2,
    "version_minor": 0
   }
  }
 },
 "nbformat": 4,
 "nbformat_minor": 2
}
