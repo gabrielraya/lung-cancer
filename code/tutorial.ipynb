{
 "cells": [
  {
   "cell_type": "markdown",
   "metadata": {
    "collapsed": true
   },
   "source": [
    "# Neural Image Compression # \n",
    "\n",
    "Using local Data to test functionality with a few WSIs\n"
   ]
  },
  {
   "cell_type": "markdown",
   "metadata": {
    "pycharm": {
     "name": "#%% md\n"
    }
   },
   "source": [
    "## Imports ##"
   ]
  },
  {
   "cell_type": "code",
   "execution_count": 1,
   "metadata": {
    "pycharm": {
     "is_executing": false,
     "name": "#%%\n"
    }
   },
   "outputs": [
    {
     "name": "stderr",
     "output_type": "stream",
     "text": [
      "Using TensorFlow backend.\n"
     ]
    }
   ],
   "source": [
    "import numpy as np\n",
    "import pandas as pd\n",
    "import matplotlib.pyplot as plt \n",
    "from tqdm import tqdm\n",
    "import os, shutil\n",
    "from os.path import join, dirname, exists\n",
    "import keras\n",
    "from gradcam_wsi import gradcam_on_dataset\n",
    "from preprocessing import data_to_csv"
   ]
  },
  {
   "cell_type": "markdown",
   "metadata": {
    "pycharm": {
     "name": "#%% md\n"
    }
   },
   "source": [
    "## Data ##\n",
    "\n",
    "To demonstrate the functionality of NIC, we will need a set of whole-slide images (WSIs) with their respective slide-level labels. In this case, we will use the WSIs that can be found using the following pattern:\n",
    "\n",
    "These data was already reorganized, it is, all the tiff files are contained in one folder for each class. \n",
    "\n",
    "These are a small version of the TCGA dataset:\n",
    "\n",
    "`E:\\pathology-weakly-supervised-lung-cancer-growth-pattern-prediction\\data\\tcga_luad\\images_diagnostic`\n",
    "\n",
    "`E:\\pathology-weakly-supervised-lung-cancer-growth-pattern-prediction\\data\\tcga_lusc\\images_diagnostic`\n",
    "\n",
    "The data we are going to use is only the **diagnostic** data and no the **tissue** data. The mask are already given, but we will have to implementa script to create this masks that filter out the background.\n",
    "\n",
    "\n",
    "Because there is no slide-level csv file, we have to create one, this will be created after once we get the featurized wsi. FIle should be located at  from:\n",
    "\n",
    "`E:\\pathology-weakly-supervised-lung-cancer-growth-pattern-prediction\\data\\slide_original_list_tcga.csv`\n"
   ]
  },
  {
   "cell_type": "code",
   "execution_count": 2,
   "metadata": {},
   "outputs": [],
   "source": [
    "# Creates csv from original data\n",
    "\n",
    "# project and data directories\n",
    "root_dir=  r'E:\\pathology-weakly-supervised-lung-cancer-growth-pattern-prediction'\n",
    "data_dir = r'E:\\pathology-weakly-supervised-lung-cancer-growth-pattern-prediction\\data'\n",
    "\n",
    "# wsi directories\n",
    "dir_luad_wsi = os.path.join(data_dir, 'tcga_luad', 'wsi_diagnostic_tif')\n",
    "dir_lusc_wsi = os.path.join(data_dir, 'tcga_lusc', 'wsi_diagnostic_tif')\n",
    "dir_luad_wsi_mask = os.path.join(data_dir, 'tcga_luad', 'tissue_masks_diagnostic')\n",
    "dir_lusc_wsi_mask = os.path.join(data_dir, 'tcga_lusc', 'tissue_masks_diagnostic')\n",
    "\n",
    "# compressed image directories\n",
    "vectorized_luad_dir = join(root_dir, 'results', 'tcga_luad', 'vectorized')\n",
    "vectorized_lusc_dir = join(root_dir, 'results', 'tcga_lusc', 'vectorized')\n",
    "featurized_luad_dir = join(root_dir, 'results', 'tcga_luad', 'featurized')\n",
    "featurized_lusc_dir = join(root_dir, 'results', 'tcga_lusc', 'featurized')\n",
    "\n",
    "# results directory \n",
    "result_dir = join(root_dir, 'results', 'model')  # store the results from trained model\n",
    "gradcam_dir = join(result_dir, 'gradcam')        # store gradcam results\n",
    "\n",
    "# Set paths\n",
    "model_path = './neural-image-compression-private/models/encoders_patches_pathology/encoder_bigan.h5'\n",
    "csv_train = os.path.join(data_dir, 'train_slide_list_tcga.csv')\n",
    "csv_val = os.path.join(data_dir, 'validation_slide_list_tcga.csv')\n",
    "csv_test = os.path.join(data_dir, 'test_slide_list_tcga.csv')\n",
    "\n",
    "# csv paths\n",
    "csv_path_wsi =  os.path.join(root_dir,'data/slide_original_list_tcga.csv')\n",
    "\n",
    "cache_dir = None  # used to store local copies of files during I/O operations (useful in cluster"
   ]
  },
  {
   "cell_type": "markdown",
   "metadata": {},
   "source": [
    "## 0. Preprocessing\n",
    "\n",
    "We need to create a csv file to point out the data."
   ]
  },
  {
   "cell_type": "code",
   "execution_count": 3,
   "metadata": {
    "pycharm": {
     "is_executing": false,
     "name": "#%%\n"
    }
   },
   "outputs": [
    {
     "name": "stdout",
     "output_type": "stream",
     "text": [
      "Creating main csv data files from original data...\n"
     ]
    },
    {
     "name": "stderr",
     "output_type": "stream",
     "text": [
      "100%|██████████| 10/10 [00:00<00:00, 10034.22it/s]\n",
      "100%|██████████| 10/10 [00:00<00:00, 5000.96it/s]\n"
     ]
    },
    {
     "name": "stdout",
     "output_type": "stream",
     "text": [
      "Csv file sucessfully exported!\n",
      "Files were read with shapes: (20, 2)\n"
     ]
    },
    {
     "data": {
      "text/html": [
       "<div>\n",
       "<style scoped>\n",
       "    .dataframe tbody tr th:only-of-type {\n",
       "        vertical-align: middle;\n",
       "    }\n",
       "\n",
       "    .dataframe tbody tr th {\n",
       "        vertical-align: top;\n",
       "    }\n",
       "\n",
       "    .dataframe thead th {\n",
       "        text-align: right;\n",
       "    }\n",
       "</style>\n",
       "<table border=\"1\" class=\"dataframe\">\n",
       "  <thead>\n",
       "    <tr style=\"text-align: right;\">\n",
       "      <th></th>\n",
       "      <th>slide_id</th>\n",
       "      <th>label</th>\n",
       "    </tr>\n",
       "  </thead>\n",
       "  <tbody>\n",
       "    <tr>\n",
       "      <th>0</th>\n",
       "      <td>TCGA-05-4244-01Z-00-DX1</td>\n",
       "      <td>1</td>\n",
       "    </tr>\n",
       "    <tr>\n",
       "      <th>1</th>\n",
       "      <td>TCGA-05-4245-01Z-00-DX1</td>\n",
       "      <td>1</td>\n",
       "    </tr>\n",
       "    <tr>\n",
       "      <th>2</th>\n",
       "      <td>TCGA-05-4249-01Z-00-DX1</td>\n",
       "      <td>1</td>\n",
       "    </tr>\n",
       "    <tr>\n",
       "      <th>3</th>\n",
       "      <td>TCGA-05-4250-01Z-00-DX1</td>\n",
       "      <td>1</td>\n",
       "    </tr>\n",
       "    <tr>\n",
       "      <th>4</th>\n",
       "      <td>TCGA-05-4382-01Z-00-DX1</td>\n",
       "      <td>1</td>\n",
       "    </tr>\n",
       "  </tbody>\n",
       "</table>\n",
       "</div>"
      ],
      "text/plain": [
       "                  slide_id  label\n",
       "0  TCGA-05-4244-01Z-00-DX1      1\n",
       "1  TCGA-05-4245-01Z-00-DX1      1\n",
       "2  TCGA-05-4249-01Z-00-DX1      1\n",
       "3  TCGA-05-4250-01Z-00-DX1      1\n",
       "4  TCGA-05-4382-01Z-00-DX1      1"
      ]
     },
     "execution_count": 3,
     "metadata": {},
     "output_type": "execute_result"
    }
   ],
   "source": [
    "from preprocessing import create_csv\n",
    "\n",
    "print('Creating main csv data files from original data...')\n",
    "create_csv(dir_luad_wsi, dir_lusc_wsi, csv_path_wsi, '.tif')\n",
    "\n",
    "# read files to check shapes\n",
    "df = pd.read_csv(csv_path_wsi)\n",
    "print(f'Files were read with shapes: {df.shape}')\n",
    "df.head()"
   ]
  },
  {
   "cell_type": "markdown",
   "metadata": {},
   "source": [
    "## 1. Encoder network ##\n",
    "\n",
    "To perform NIC, we will need an encoder network to transform small image patches into embedding vectors. According to the paper, BiGAN produces the best unsupervised encoder and it is the one we will train here.\n",
    "\n",
    "Alternatively, a collection of pretrained encoders (the one used in the NIC paper) can be found in \n",
    "\n",
    "`./models/encoders_patches_pathology/*.h5`\n",
    "\n",
    "Remember that these pretrained encoders accept 128x128x3 patches taken at 0.5 um/px resolution (often level 1), except for the BiGAN model that takes 64x64x3 at 1 um/px (often level 2).\n",
    "\n"
   ]
  },
  {
   "cell_type": "markdown",
   "metadata": {},
   "source": [
    "In order to train the BiGAN model, we will first extract patches from the slides in the `encoder` partition. We will sample 10K patches per slide, producing ~260K patches in total. We select 96x96 patches to perform crop augmentation during training later."
   ]
  },
  {
   "cell_type": "code",
   "execution_count": 4,
   "metadata": {
    "pycharm": {
     "name": "#%% \n"
    }
   },
   "outputs": [],
   "source": [
    "# # Dont run this we, will train later the encoder but not now. \n",
    "\n",
    "# from source.extract_patches import create_patch_dataset\n",
    "\n",
    "# patches_npy_path = join(root_dir, 'results', 'patches', 'training.npy')\n",
    "\n",
    "# # Extracts patches from whole-slide images and store them in a numpy array file\n",
    "# create_patch_dataset(\n",
    "#     input_dir=slide_dir,\n",
    "#     csv_path=csv_path,\n",
    "#     partition_tag='encoder',\n",
    "#     output_path=patches_npy_path,\n",
    "#     image_level=2,\n",
    "#     patch_size=96,\n",
    "#     n_patches_per_image=10000,\n",
    "#     cache_dir=join(cache_dir, 'patches')\n",
    "# )"
   ]
  },
  {
   "cell_type": "markdown",
   "metadata": {},
   "source": [
    "Once we have extracted the patches, we can proceed to train the BiGAN model. We will use the hyper-parameters described in the NIC paper. "
   ]
  },
  {
   "cell_type": "code",
   "execution_count": 5,
   "metadata": {},
   "outputs": [],
   "source": [
    "# from source.train_bigan_model import BiganModel\n",
    "\n",
    "# model_bigan_dir = join(root_dir, 'results', 'encoders', 'bigan', 'rotterdam1_96_noaug', '0.0001')\n",
    "\n",
    "# # Trains BiGAN\n",
    "# bigan = BiganModel(\n",
    "#     latent_dim=128,\n",
    "#     n_filters=128,\n",
    "#     lr=0.0001,\n",
    "#     patch_size=64,\n",
    "# )\n",
    "# bigan.train(\n",
    "#     x_path=patches_npy_path,\n",
    "#     output_dir=model_bigan_dir,\n",
    "#     epochs=400000,\n",
    "#     batch_size=64,\n",
    "#     sample_interval=1000,\n",
    "#     save_models_on_epoch=True\n",
    "# )"
   ]
  },
  {
   "cell_type": "markdown",
   "metadata": {},
   "source": [
    "Beware that training this model is highly unstable, thus it can fail or collapse with ease. If this happens, restart the training. Selecting a checkpoint model is a manual procedure: check the generated images and loss values and avoid abnormal results. "
   ]
  },
  {
   "cell_type": "markdown",
   "metadata": {},
   "source": [
    "## 2. Compress images ##\n",
    "\n",
    "Once we have a trained encoder, we can proceed with the WSI compression. I recommend running several `IDLE` instances of the following code in the cluster to speed up the lenghty process."
   ]
  },
  {
   "cell_type": "markdown",
   "metadata": {},
   "source": [
    "Before the actual compression, we need to vectorize the WSIs. This process extracts all non-background patches from the slide and store them in numpy array format for quick access. In this case, we will read 64x64 patches at 1 um/px resolution (level 2)."
   ]
  },
  {
   "cell_type": "code",
   "execution_count": 6,
   "metadata": {},
   "outputs": [
    {
     "name": "stdout",
     "output_type": "stream",
     "text": [
      "Already existing file TCGA-05-4244-01Z-00-DX1 - 9 images left\n",
      "Already existing file TCGA-05-4245-01Z-00-DX1 - 8 images left\n",
      "Already existing file TCGA-05-4249-01Z-00-DX1 - 7 images left\n",
      "Already existing file TCGA-05-4250-01Z-00-DX1 - 6 images left\n",
      "Already existing file TCGA-05-4382-01Z-00-DX1 - 5 images left\n",
      "Already existing file TCGA-05-4395-01Z-00-DX1 - 4 images left\n",
      "Already existing file TCGA-05-4396-01Z-00-DX1 - 3 images left\n",
      "Already existing file TCGA-05-4397-01Z-00-DX1 - 2 images left\n",
      "Already existing file TCGA-05-4398-01Z-00-DX1 - 1 images left\n",
      "Already existing file TCGA-4B-A93V-01Z-00-DX1 - 0 images left\n",
      "Finish Processing All images!\n"
     ]
    }
   ],
   "source": [
    "# Vectorize LUAD WSIs\n",
    "from vectorize_wsi import vectorize_images\n",
    "\n",
    "vectorize_images(\n",
    "    input_dir=dir_luad_wsi,\n",
    "    mask_dir=dir_luad_wsi_mask, \n",
    "    output_dir=vectorized_luad_dir, \n",
    "    cache_dir=cache_dir, \n",
    "    image_level=2, \n",
    "    patch_size=128\n",
    "    )"
   ]
  },
  {
   "cell_type": "code",
   "execution_count": 7,
   "metadata": {},
   "outputs": [
    {
     "name": "stdout",
     "output_type": "stream",
     "text": [
      "Already existing file TCGA-33-4538-01Z-00-DX3 - 9 images left\n",
      "Already existing file TCGA-52-7812-01Z-00-DX1 - 8 images left\n",
      "Already existing file TCGA-60-2721-01Z-00-DX1 - 7 images left\n",
      "Already existing file TCGA-77-8007-01Z-00-DX1 - 6 images left\n",
      "Already existing file TCGA-77-8009-01Z-00-DX1 - 5 images left\n",
      "Already existing file TCGA-77-8139-01Z-00-DX1 - 4 images left\n",
      "Already existing file TCGA-77-8143-01Z-00-DX1 - 3 images left\n",
      "Already existing file TCGA-77-A5G1-01Z-00-DX1 - 2 images left\n",
      "Already existing file TCGA-NK-A5CR-01Z-00-DX1 - 1 images left\n",
      "Already existing file TCGA-NK-A5D1-01Z-00-DX1 - 0 images left\n",
      "Finish Processing All images!\n"
     ]
    }
   ],
   "source": [
    "# Vectorize LUSC WSIs\n",
    "\n",
    "vectorize_images(\n",
    "    input_dir=dir_lusc_wsi,\n",
    "    mask_dir=dir_lusc_wsi_mask, \n",
    "    output_dir=vectorized_lusc_dir, \n",
    "    cache_dir=cache_dir, \n",
    "    image_level=2, \n",
    "    patch_size=128\n",
    "    )"
   ]
  },
  {
   "cell_type": "markdown",
   "metadata": {},
   "source": [
    "Now we can compress the WSIs. Each WSI (vectorized file) will be processed 8 times due to WSI-level augmentation (rotation and flip). We will use an existing pretrained encoder from the NIC paper."
   ]
  },
  {
   "cell_type": "code",
   "execution_count": 8,
   "metadata": {},
   "outputs": [
    {
     "name": "stdout",
     "output_type": "stream",
     "text": [
      "WARNING:tensorflow:From D:\\Users\\Gabriel\\Anaconda3\\envs\\tensorflow\\lib\\site-packages\\tensorflow\\python\\ops\\resource_variable_ops.py:435: colocate_with (from tensorflow.python.framework.ops) is deprecated and will be removed in a future version.\n",
      "Instructions for updating:\n",
      "Colocations handled automatically by placer.\n",
      "Already existing file TCGA-05-4244-01Z-00-DX1_{item} - 9 images left\n",
      "Already existing file TCGA-05-4245-01Z-00-DX1_{item} - 8 images left\n",
      "Already existing file TCGA-05-4249-01Z-00-DX1_{item} - 7 images left\n",
      "Already existing file TCGA-05-4250-01Z-00-DX1_{item} - 6 images left\n",
      "Already existing file TCGA-05-4382-01Z-00-DX1_{item} - 5 images left\n",
      "Already existing file TCGA-05-4395-01Z-00-DX1_{item} - 4 images left\n",
      "Already existing file TCGA-05-4396-01Z-00-DX1_{item} - 3 images left\n",
      "Already existing file TCGA-05-4397-01Z-00-DX1_{item} - 2 images left\n",
      "Already existing file TCGA-05-4398-01Z-00-DX1_{item} - 1 images left\n",
      "Already existing file TCGA-4B-A93V-01Z-00-DX1_{item} - 0 images left\n",
      "Finish Processing All images!\n"
     ]
    }
   ],
   "source": [
    "# Featurize images\n",
    "from featurize_wsi import featurize_images\n",
    "\n",
    "# Featurize LUAD data\n",
    "featurize_images(\n",
    "    input_dir=vectorized_luad_dir,\n",
    "    model_path=model_path, \n",
    "    output_dir=featurized_luad_dir, \n",
    "    batch_size=32\n",
    "    )"
   ]
  },
  {
   "cell_type": "code",
   "execution_count": 9,
   "metadata": {},
   "outputs": [
    {
     "name": "stdout",
     "output_type": "stream",
     "text": [
      "Already existing file TCGA-33-4538-01Z-00-DX3_{item} - 9 images left\n",
      "Already existing file TCGA-52-7812-01Z-00-DX1_{item} - 8 images left\n",
      "Already existing file TCGA-60-2721-01Z-00-DX1_{item} - 7 images left\n",
      "Already existing file TCGA-77-8007-01Z-00-DX1_{item} - 6 images left\n",
      "Already existing file TCGA-77-8009-01Z-00-DX1_{item} - 5 images left\n",
      "Already existing file TCGA-77-8139-01Z-00-DX1_{item} - 4 images left\n",
      "Already existing file TCGA-77-8143-01Z-00-DX1_{item} - 3 images left\n",
      "Already existing file TCGA-77-A5G1-01Z-00-DX1_{item} - 2 images left\n",
      "Already existing file TCGA-NK-A5CR-01Z-00-DX1_{item} - 1 images left\n",
      "Already existing file TCGA-NK-A5D1-01Z-00-DX1_{item} - 0 images left\n",
      "Finish Processing All images!\n"
     ]
    }
   ],
   "source": [
    "# Featurize LUSC data\n",
    "featurize_images(\n",
    "    input_dir=vectorized_lusc_dir,\n",
    "    model_path=model_path, \n",
    "    output_dir=featurized_lusc_dir, \n",
    "    batch_size=32\n",
    "    )"
   ]
  },
  {
   "cell_type": "markdown",
   "metadata": {},
   "source": [
    "## 3. Train CNN on compressed images ##\n",
    "\n",
    "Once we have compressed the WSIs, we can proceed with the CNN classifier. In this example, we will train a classifier targeting the binary label `HGP_SL` found in the CSV file. We will be training 4 models using cross-validation: in each fold, we will use 2 data partitions for training, 1 for validation and 1 for testing. At the end of model training, we perform inference on the test set, compute metrics, and run GradCAM on the images.\n",
    "\n"
   ]
  },
  {
   "cell_type": "code",
   "execution_count": 10,
   "metadata": {},
   "outputs": [],
   "source": [
    "from model_training import train_wsi_classifier, eval_model, compute_metrics\n",
    "from utils import check_file_exists\n",
    "\n",
    "def train_model(featurized_dir, csv_path, fold_n, output_dir, cache_dir, batch_size=16, epochs=32,\n",
    "                images_dir=None, vectorized_dir=None, lr=1e-2, patience=4, delete_folder=False,\n",
    "                occlusion_augmentation=False, elastic_augmentation=False, shuffle_augmentation=None):\n",
    "    \"\"\"\n",
    "    Trains a CNN using compressed whole-slide images.\n",
    "\n",
    "    :param featurized_dir: folder containing the compressed (featurized) images.\n",
    "    :param csv_path: list of slides with labels.\n",
    "    :param fold_n: fold determining which data partitions to use for training, validation and testing.\n",
    "    :param output_dir: destination folder to store results.\n",
    "    :param cache_dir: folder to store compressed images temporarily for fast access.\n",
    "    :param batch_size: number of samples to train with in one-go.\n",
    "    :return: nothing.\n",
    "    \"\"\"\n",
    "    \n",
    "    # Delete folder and subfolders if exists\n",
    "    if delete_folder: \n",
    "        if exists(result_dir):  shutil.rmtree(result_dir)\n",
    "            \n",
    "    # Train CNN\n",
    "    train_wsi_classifier(\n",
    "        data_dir=featurized_dir,\n",
    "        csv_path=csv_path,\n",
    "        partitions=None,\n",
    "        crop_size=400,\n",
    "        output_dir=output_dir,\n",
    "        output_units=2,\n",
    "        cache_dir=cache_dir,\n",
    "        n_epochs=epochs,\n",
    "        batch_size=batch_size,\n",
    "        lr=lr,\n",
    "        code_size=128,\n",
    "        workers=1,\n",
    "        train_step_multiplier=1,\n",
    "        val_step_multiplier=0.5,\n",
    "        keep_data_training=1,\n",
    "        keep_data_validation=1,\n",
    "        patience=patience,\n",
    "        occlusion_augmentation=occlusion_augmentation,\n",
    "        elastic_augmentation=elastic_augmentation,\n",
    "        shuffle_augmentation=shuffle_augmentation\n",
    "    )  \n",
    "\n",
    "    # Evaluate CNN \n",
    "    \n",
    "    # Get compressed wsi directories with csv test file\n",
    "    data_config = featurized_dir\n",
    "    data_config['csv_path'] = csv_path['csv_test']\n",
    "    \n",
    "    eval_model(\n",
    "        model_path=join(output_dir, 'checkpoint.h5'),\n",
    "        data_config=data_config,\n",
    "        crop_size=400,\n",
    "        output_path=join(output_dir, 'eval', 'preds.csv'),\n",
    "        cache_dir=None,\n",
    "        batch_size=batch_size,\n",
    "        keep_data=1\n",
    "    )\n",
    "\n",
    "    # Metrics\n",
    "    try:\n",
    "        compute_metrics(\n",
    "            input_path=join(output_dir, 'eval', 'preds.csv'),\n",
    "            output_dir=join(output_dir, 'eval')\n",
    "        )\n",
    "    except Exception as e:\n",
    "        print('Failed to compute metrics. Exception: {e}'.format(e=e), flush=True)\n",
    "\n",
    "#     # Apply GradCAM analysis to CNN\n",
    "#     gradcam_on_dataset(\n",
    "#         featurized_dir=featurized_dir,\n",
    "#         csv_path=csv_path,\n",
    "#         model_path=join(output_dir, 'checkpoint.h5'),\n",
    "#         partitions=folds[fold_n]['test'],\n",
    "#         layer_name='separable_conv2d_1',\n",
    "#         output_unit=1,\n",
    "#         custom_objects=None,\n",
    "#         cache_dir=cache_dir,\n",
    "#         images_dir=images_dir,\n",
    "#         vectorized_dir=vectorized_dir\n",
    "#     )"
   ]
  },
  {
   "cell_type": "code",
   "execution_count": 11,
   "metadata": {
    "scrolled": false
   },
   "outputs": [
    {
     "name": "stdout",
     "output_type": "stream",
     "text": [
      "Loading training set ...\n",
      "FeaturizedWsiGenerator data config: {'data_dir_luad': 'E:\\\\pathology-weakly-supervised-lung-cancer-growth-pattern-prediction\\\\results\\\\tcga_luad\\\\featurized', 'data_dir_lusc': 'E:\\\\pathology-weakly-supervised-lung-cancer-growth-pattern-prediction\\\\results\\\\tcga_lusc\\\\featurized', 'csv_path': 'E:\\\\pathology-weakly-supervised-lung-cancer-growth-pattern-prediction\\\\data\\\\train_slide_list_tcga.csv'}\n",
      "FeaturizedWsiGenerator using 11 samples and 3 batches, distributed in 4 positive and 7 negative samples.\n",
      "Loading validation set ...\n",
      "FeaturizedWsiSequence data config: {'data_dir_luad': 'E:\\\\pathology-weakly-supervised-lung-cancer-growth-pattern-prediction\\\\results\\\\tcga_luad\\\\featurized', 'data_dir_lusc': 'E:\\\\pathology-weakly-supervised-lung-cancer-growth-pattern-prediction\\\\results\\\\tcga_lusc\\\\featurized', 'csv_path': 'E:\\\\pathology-weakly-supervised-lung-cancer-growth-pattern-prediction\\\\data\\\\validation_slide_list_tcga.csv'}\n",
      "FeaturizedWsiSequence using 5 samples and 2 batches, distributed in 4 positive and 1 negative samples.\n",
      "Building model ...\n",
      "Training model ...\n",
      "Training model in directory: E:\\pathology-weakly-supervised-lung-cancer-growth-pattern-prediction\\results\\model with content 0\n",
      "Training model from scratch False False...\n",
      "WARNING:tensorflow:From D:\\Users\\Gabriel\\Anaconda3\\envs\\tensorflow\\lib\\site-packages\\tensorflow\\python\\ops\\math_ops.py:3066: to_int32 (from tensorflow.python.ops.math_ops) is deprecated and will be removed in a future version.\n",
      "Instructions for updating:\n",
      "Use tf.cast instead.\n",
      "Model: \"model_3\"\n",
      "_________________________________________________________________\n",
      "Layer (type)                 Output Shape              Param #   \n",
      "=================================================================\n",
      "input_3 (InputLayer)         (None, 400, 400, 128)     0         \n",
      "_________________________________________________________________\n",
      "separable_conv2d_1 (Separabl (None, 199, 199, 128)     17664     \n",
      "_________________________________________________________________\n",
      "batch_normalization_1 (Batch (None, 199, 199, 128)     512       \n",
      "_________________________________________________________________\n",
      "leaky_re_lu_1 (LeakyReLU)    (None, 199, 199, 128)     0         \n",
      "_________________________________________________________________\n",
      "spatial_dropout2d_1 (Spatial (None, 199, 199, 128)     0         \n",
      "_________________________________________________________________\n",
      "separable_conv2d_2 (Separabl (None, 99, 99, 128)       17664     \n",
      "_________________________________________________________________\n",
      "batch_normalization_2 (Batch (None, 99, 99, 128)       512       \n",
      "_________________________________________________________________\n",
      "leaky_re_lu_2 (LeakyReLU)    (None, 99, 99, 128)       0         \n",
      "_________________________________________________________________\n",
      "spatial_dropout2d_2 (Spatial (None, 99, 99, 128)       0         \n",
      "_________________________________________________________________\n",
      "separable_conv2d_3 (Separabl (None, 49, 49, 128)       17664     \n",
      "_________________________________________________________________\n",
      "batch_normalization_3 (Batch (None, 49, 49, 128)       512       \n",
      "_________________________________________________________________\n",
      "leaky_re_lu_3 (LeakyReLU)    (None, 49, 49, 128)       0         \n",
      "_________________________________________________________________\n",
      "spatial_dropout2d_3 (Spatial (None, 49, 49, 128)       0         \n",
      "_________________________________________________________________\n",
      "separable_conv2d_4 (Separabl (None, 24, 24, 128)       17664     \n",
      "_________________________________________________________________\n",
      "batch_normalization_4 (Batch (None, 24, 24, 128)       512       \n",
      "_________________________________________________________________\n",
      "leaky_re_lu_4 (LeakyReLU)    (None, 24, 24, 128)       0         \n",
      "_________________________________________________________________\n",
      "spatial_dropout2d_4 (Spatial (None, 24, 24, 128)       0         \n",
      "_________________________________________________________________\n",
      "separable_conv2d_5 (Separabl (None, 11, 11, 128)       17664     \n",
      "_________________________________________________________________\n",
      "batch_normalization_5 (Batch (None, 11, 11, 128)       512       \n",
      "_________________________________________________________________\n",
      "leaky_re_lu_5 (LeakyReLU)    (None, 11, 11, 128)       0         \n",
      "_________________________________________________________________\n",
      "spatial_dropout2d_5 (Spatial (None, 11, 11, 128)       0         \n",
      "_________________________________________________________________\n",
      "separable_conv2d_6 (Separabl (None, 5, 5, 128)         17664     \n",
      "_________________________________________________________________\n",
      "batch_normalization_6 (Batch (None, 5, 5, 128)         512       \n",
      "_________________________________________________________________\n",
      "leaky_re_lu_6 (LeakyReLU)    (None, 5, 5, 128)         0         \n",
      "_________________________________________________________________\n",
      "spatial_dropout2d_6 (Spatial (None, 5, 5, 128)         0         \n",
      "_________________________________________________________________\n",
      "separable_conv2d_7 (Separabl (None, 3, 3, 128)         17664     \n",
      "_________________________________________________________________\n",
      "batch_normalization_7 (Batch (None, 3, 3, 128)         512       \n",
      "_________________________________________________________________\n",
      "leaky_re_lu_7 (LeakyReLU)    (None, 3, 3, 128)         0         \n",
      "_________________________________________________________________\n",
      "spatial_dropout2d_7 (Spatial (None, 3, 3, 128)         0         \n",
      "_________________________________________________________________\n",
      "separable_conv2d_8 (Separabl (None, 1, 1, 128)         17664     \n",
      "_________________________________________________________________\n",
      "batch_normalization_8 (Batch (None, 1, 1, 128)         512       \n",
      "_________________________________________________________________\n",
      "leaky_re_lu_8 (LeakyReLU)    (None, 1, 1, 128)         0         \n",
      "_________________________________________________________________\n",
      "spatial_dropout2d_8 (Spatial (None, 1, 1, 128)         0         \n",
      "_________________________________________________________________\n",
      "flatten_1 (Flatten)          (None, 128)               0         \n",
      "_________________________________________________________________\n",
      "dense_1 (Dense)              (None, 128)               16512     \n",
      "_________________________________________________________________\n",
      "batch_normalization_9 (Batch (None, 128)               512       \n",
      "_________________________________________________________________\n",
      "leaky_re_lu_9 (LeakyReLU)    (None, 128)               0         \n",
      "_________________________________________________________________\n",
      "dense_2 (Dense)              (None, 2)                 258       \n",
      "_________________________________________________________________\n",
      "activation_1 (Activation)    (None, 2)                 0         \n",
      "=================================================================\n",
      "Total params: 162,690\n",
      "Trainable params: 160,386\n",
      "Non-trainable params: 2,304\n",
      "_________________________________________________________________\n",
      "Epoch 1/2\n",
      "3/3 [==============================] - ETA: 1:09 - loss: 1.4971 - categorical_accuracy: 0.25 - ETA: 30s - loss: 1.1344 - categorical_accuracy: 0.2500 - 102s 34s/step - loss: 0.8530 - categorical_accuracy: 0.5000 - val_loss: 0.7130 - val_categorical_accuracy: 0.5000\n",
      "Epoch 00000: val_loss improved from inf to 0.71305, saving model to E:\\pathology-weakly-supervised-lung-cancer-growth-pattern-prediction\\results\\model\\checkpoint.h5\n",
      "Epoch 00000: saving model to E:\\pathology-weakly-supervised-lung-cancer-growth-pattern-prediction\\results\\model\\last_epoch.h5\n",
      "Epoch 2/2\n",
      "3/3 [==============================] - ETA: 40s - loss: 0.7523 - categorical_accuracy: 0.750 - ETA: 20s - loss: 0.3894 - categorical_accuracy: 0.875 - 65s 22s/step - loss: 0.4467 - categorical_accuracy: 0.8333 - val_loss: 0.7191 - val_categorical_accuracy: 0.5000\n",
      "Epoch 00001: val_loss did not improve (current: 0.71912, best: 0.71305, monitor_op: <ufunc 'less'>, best_op: <function ModelCheckpoint.__init__.<locals>.<lambda> at 0x0000015D24B74F28>)\n"
     ]
    },
    {
     "name": "stdout",
     "output_type": "stream",
     "text": [
      "Epoch 00001: saving model to E:\\pathology-weakly-supervised-lung-cancer-growth-pattern-prediction\\results\\model\\last_epoch.h5\n",
      "Evaluating model in directory: E:\\pathology-weakly-supervised-lung-cancer-growth-pattern-prediction\\results\\model\\eval with content 0\n",
      "Loading test set ...\n",
      "FeaturizedWsiSequence data config: {'data_dir_luad': 'E:\\\\pathology-weakly-supervised-lung-cancer-growth-pattern-prediction\\\\results\\\\tcga_luad\\\\featurized', 'data_dir_lusc': 'E:\\\\pathology-weakly-supervised-lung-cancer-growth-pattern-prediction\\\\results\\\\tcga_lusc\\\\featurized', 'csv_path': 'E:\\\\pathology-weakly-supervised-lung-cancer-growth-pattern-prediction\\\\data\\\\test_slide_list_tcga.csv'}\n",
      "FeaturizedWsiSequence using 4 samples and 1 batches, distributed in 4 positive and 4 negative samples.\n",
      "Predicting batch 1/1 ...\n"
     ]
    }
   ],
   "source": [
    "# Train CNN\n",
    "\n",
    "#selected_fold = 0\n",
    "\n",
    "featurized_dir = {'data_dir_luad': featurized_luad_dir, 'data_dir_lusc': featurized_lusc_dir}\n",
    "csv_path = {'csv_train': csv_train, 'csv_val': csv_val, 'csv_test': csv_test}\n",
    "\n",
    "train_model(\n",
    "    featurized_dir=featurized_dir,\n",
    "    csv_path=csv_path,\n",
    "    fold_n=0, \n",
    "    output_dir=result_dir,\n",
    "    cache_dir=None,\n",
    "    batch_size =4,\n",
    "    epochs=2,\n",
    "    delete_folder=True,\n",
    "    occlusion_augmentation=False,\n",
    "    lr=1e-2,\n",
    "    patience=4,\n",
    "    elastic_augmentation=False,\n",
    "    images_dir=None,  # required for GradCAM\n",
    "    vectorized_dir=None,  # required for GradCAM\n",
    "    shuffle_augmentation=None\n",
    ")"
   ]
  },
  {
   "cell_type": "markdown",
   "metadata": {},
   "source": [
    "## Aplying GradCam\n",
    "\n",
    "Here we get the folder separetely"
   ]
  },
  {
   "cell_type": "code",
   "execution_count": 12,
   "metadata": {},
   "outputs": [
    {
     "name": "stdout",
     "output_type": "stream",
     "text": [
      "GradCam will be apply to this dataset!\n"
     ]
    },
    {
     "name": "stderr",
     "output_type": "stream",
     "text": [
      "100%|██████████| 30/30 [00:00<00:00, 14970.75it/s]\n"
     ]
    },
    {
     "name": "stdout",
     "output_type": "stream",
     "text": [
      "Csv file sucessfully exported!\n"
     ]
    },
    {
     "data": {
      "text/html": [
       "<div>\n",
       "<style scoped>\n",
       "    .dataframe tbody tr th:only-of-type {\n",
       "        vertical-align: middle;\n",
       "    }\n",
       "\n",
       "    .dataframe tbody tr th {\n",
       "        vertical-align: top;\n",
       "    }\n",
       "\n",
       "    .dataframe thead th {\n",
       "        text-align: right;\n",
       "    }\n",
       "</style>\n",
       "<table border=\"1\" class=\"dataframe\">\n",
       "  <thead>\n",
       "    <tr style=\"text-align: right;\">\n",
       "      <th></th>\n",
       "      <th>slide_id</th>\n",
       "      <th>label</th>\n",
       "    </tr>\n",
       "  </thead>\n",
       "  <tbody>\n",
       "    <tr>\n",
       "      <th>0</th>\n",
       "      <td>TCGA-05-4244-01Z-00-DX1</td>\n",
       "      <td>1</td>\n",
       "    </tr>\n",
       "    <tr>\n",
       "      <th>1</th>\n",
       "      <td>TCGA-05-4245-01Z-00-DX1</td>\n",
       "      <td>1</td>\n",
       "    </tr>\n",
       "    <tr>\n",
       "      <th>2</th>\n",
       "      <td>TCGA-05-4249-01Z-00-DX1</td>\n",
       "      <td>1</td>\n",
       "    </tr>\n",
       "    <tr>\n",
       "      <th>3</th>\n",
       "      <td>TCGA-05-4250-01Z-00-DX1</td>\n",
       "      <td>1</td>\n",
       "    </tr>\n",
       "    <tr>\n",
       "      <th>4</th>\n",
       "      <td>TCGA-05-4382-01Z-00-DX1</td>\n",
       "      <td>1</td>\n",
       "    </tr>\n",
       "    <tr>\n",
       "      <th>5</th>\n",
       "      <td>TCGA-05-4395-01Z-00-DX1</td>\n",
       "      <td>1</td>\n",
       "    </tr>\n",
       "    <tr>\n",
       "      <th>6</th>\n",
       "      <td>TCGA-05-4396-01Z-00-DX1</td>\n",
       "      <td>1</td>\n",
       "    </tr>\n",
       "    <tr>\n",
       "      <th>7</th>\n",
       "      <td>TCGA-05-4397-01Z-00-DX1</td>\n",
       "      <td>1</td>\n",
       "    </tr>\n",
       "    <tr>\n",
       "      <th>8</th>\n",
       "      <td>TCGA-05-4398-01Z-00-DX1</td>\n",
       "      <td>1</td>\n",
       "    </tr>\n",
       "    <tr>\n",
       "      <th>9</th>\n",
       "      <td>TCGA-4B-A93V-01Z-00-DX1</td>\n",
       "      <td>1</td>\n",
       "    </tr>\n",
       "  </tbody>\n",
       "</table>\n",
       "</div>"
      ],
      "text/plain": [
       "                  slide_id  label\n",
       "0  TCGA-05-4244-01Z-00-DX1      1\n",
       "1  TCGA-05-4245-01Z-00-DX1      1\n",
       "2  TCGA-05-4249-01Z-00-DX1      1\n",
       "3  TCGA-05-4250-01Z-00-DX1      1\n",
       "4  TCGA-05-4382-01Z-00-DX1      1\n",
       "5  TCGA-05-4395-01Z-00-DX1      1\n",
       "6  TCGA-05-4396-01Z-00-DX1      1\n",
       "7  TCGA-05-4397-01Z-00-DX1      1\n",
       "8  TCGA-05-4398-01Z-00-DX1      1\n",
       "9  TCGA-4B-A93V-01Z-00-DX1      1"
      ]
     },
     "execution_count": 12,
     "metadata": {},
     "output_type": "execute_result"
    }
   ],
   "source": [
    "print('GradCam will be apply to this dataset!')\n",
    "csv_path_luad_feat = join(data_dir, 'slide_list_featurized_luad.csv')\n",
    "data_to_csv(featurized_luad_dir, csv_path_luad_feat)\n",
    "pd.read_csv(csv_path_luad_feat)"
   ]
  },
  {
   "cell_type": "code",
   "execution_count": 13,
   "metadata": {},
   "outputs": [
    {
     "name": "stdout",
     "output_type": "stream",
     "text": [
      "GradCAM in directory: E:\\pathology-weakly-supervised-lung-cancer-growth-pattern-prediction\\results\\model\\gradcam with content 0\n",
      "Computing GradCAM on TCGA-05-4396-0 ... 1/10\n"
     ]
    },
    {
     "name": "stderr",
     "output_type": "stream",
     "text": [
      "D:\\Users\\Gabriel\\Anaconda3\\envs\\tensorflow\\lib\\site-packages\\scipy\\ndimage\\interpolation.py:611: UserWarning: From scipy 0.13.0, the output shape of zoom() is calculated with round() instead of int() - for these inputs the size of the returned array has changed.\n",
      "  \"the returned array has changed.\", UserWarning)\n"
     ]
    },
    {
     "name": "stdout",
     "output_type": "stream",
     "text": [
      "Computing GradCAM on TCGA-05-4397-0 ... 2/10\n",
      "Computing GradCAM on TCGA-05-4398-0 ... 3/10\n",
      "Computing GradCAM on TCGA-4B-A93V-0 ... 4/10\n",
      "Computing GradCAM on TCGA-05-4382-0 ... 5/10\n"
     ]
    },
    {
     "name": "stderr",
     "output_type": "stream",
     "text": [
      "E:\\pathology-weakly-supervised-lung-cancer-growth-pattern-prediction\\code\\gradcam_wsi.py:361: RuntimeWarning: invalid value encountered in true_divide\n",
      "  gradcam = (gradcam - gradcam.min()) / (gradcam.max() - gradcam.min())\n",
      "D:\\Users\\Gabriel\\Anaconda3\\envs\\tensorflow\\lib\\site-packages\\numpy\\lib\\function_base.py:3826: RuntimeWarning: Invalid value encountered in percentile\n",
      "  interpolation=interpolation)\n",
      "E:\\pathology-weakly-supervised-lung-cancer-growth-pattern-prediction\\code\\gradcam_wsi.py:363: RuntimeWarning: invalid value encountered in less\n",
      "  gradcam[gradcam < np.percentile(gradcam, 75)] = np.nan\n",
      "E:\\pathology-weakly-supervised-lung-cancer-growth-pattern-prediction\\code\\gradcam_wsi.py:386: RuntimeWarning: invalid value encountered in true_divide\n",
      "  gradcam = (gradcam - gradcam.min()) / (gradcam.max() - gradcam.min())\n",
      "E:\\pathology-weakly-supervised-lung-cancer-growth-pattern-prediction\\code\\gradcam_wsi.py:387: RuntimeWarning: invalid value encountered in less\n",
      "  gradcam[gradcam < np.percentile(gradcam, 75)] = np.nan\n"
     ]
    },
    {
     "name": "stdout",
     "output_type": "stream",
     "text": [
      "Computing GradCAM on TCGA-05-4245-0 ... 6/10\n",
      "Computing GradCAM on TCGA-05-4244-0 ... 7/10\n",
      "Computing GradCAM on TCGA-05-4250-0 ... 8/10\n",
      "Computing GradCAM on TCGA-05-4395-0 ... 9/10\n",
      "Computing GradCAM on TCGA-05-4249-0 ... 10/10\n"
     ]
    }
   ],
   "source": [
    "# for layer in model.layers:\n",
    "#     print(layer.name)\n",
    "# Apply GradCAM analysis to CNN on LUAD data\n",
    "\n",
    "# Apply GradCam on layer 1\n",
    "gradcam_on_dataset(\n",
    "    data_dir=[featurized_luad_dir, featurized_lusc_dir],\n",
    "    csv_path=csv_path_luad_feat,\n",
    "    model_path=join(result_dir, 'checkpoint.h5'),\n",
    "    partitions=0,\n",
    "    layer_number=1,\n",
    "    custom_objects=None,\n",
    "    cache_dir=cache_dir,\n",
    "    images_dir=dir_luad_wsi,\n",
    "    vectorized_dir=vectorized_luad_dir,\n",
    "    output_dir=gradcam_dir,\n",
    "    predict_two_output = True\n",
    ")"
   ]
  },
  {
   "cell_type": "code",
   "execution_count": 14,
   "metadata": {},
   "outputs": [],
   "source": [
    "def plot_gradcam(gradcam_images):\n",
    "    %matplotlib inline\n",
    "    rows = 3; columns = 5;\n",
    "    fig, axs = plt.subplots(rows,columns,figsize=(20,8))\n",
    "    axs = axs.ravel()\n",
    "    n_images = rows * columns\n",
    "\n",
    "    for idx in range(n_images):\n",
    "        img = plt.imread(gradcam_images[idx])\n",
    "        if idx == 0: print(f'Images shape: {img.shape}')\n",
    "        axs[idx].imshow(img)\n",
    "        prefix = os.path.basename(gradcam_images[idx]).split('_')[0]\n",
    "        subfix = os.path.basename(gradcam_images[idx]).split('_')[-1]\n",
    "        axs[idx].set_title(prefix + '_' + subfix)\n",
    "        axs[idx].set_xlabel(prefix + subfix)\n",
    "        axs[idx].get_xaxis().set_visible(False)\n",
    "        axs[idx].get_yaxis().set_visible(False)"
   ]
  },
  {
   "cell_type": "code",
   "execution_count": 15,
   "metadata": {},
   "outputs": [
    {
     "name": "stdout",
     "output_type": "stream",
     "text": [
      "Images shape: (400, 400, 4)\n"
     ]
    },
    {
     "data": {
      "image/png": "[encoded data removed]",
      "text/plain": [
       "<Figure size 1440x576 with 15 Axes>"
      ]
     },
     "metadata": {
      "needs_background": "light"
     },
     "output_type": "display_data"
    }
   ],
   "source": [
    "# Get gradcam images\n",
    "gradcam_images = sorted([os.path.join(gradcam_dir, f) for f in os.listdir(gradcam_dir) if f.endswith('.png')])\n",
    "\n",
    "# Plot images\n",
    "plot_gradcam(gradcam_images)"
   ]
  },
  {
   "cell_type": "code",
   "execution_count": null,
   "metadata": {},
   "outputs": [],
   "source": []
  }
 ],
 "metadata": {
  "kernelspec": {
   "display_name": "tensorflow",
   "language": "python",
   "name": "tensorflow"
  },
  "language_info": {
   "codemirror_mode": {
    "name": "ipython",
    "version": 3
   },
   "file_extension": ".py",
   "mimetype": "text/x-python",
   "name": "python",
   "nbconvert_exporter": "python",
   "pygments_lexer": "ipython3",
   "version": "3.6.7"
  },
  "pycharm": {
   "stem_cell": {
    "cell_type": "raw",
    "metadata": {
     "collapsed": false
    },
    "source": []
   }
  }
 },
 "nbformat": 4,
 "nbformat_minor": 1
}
